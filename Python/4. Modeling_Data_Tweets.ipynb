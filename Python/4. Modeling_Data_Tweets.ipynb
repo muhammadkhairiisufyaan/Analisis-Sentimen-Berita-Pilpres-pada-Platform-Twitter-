{
  "nbformat": 4,
  "nbformat_minor": 0,
  "metadata": {
    "colab": {
      "provenance": [],
      "toc_visible": true
    },
    "kernelspec": {
      "name": "python3",
      "display_name": "Python 3"
    },
    "language_info": {
      "name": "python"
    }
  },
  "cells": [
    {
      "cell_type": "markdown",
      "source": [
        "## Modeling NLP (Tweets)"
      ],
      "metadata": {
        "id": "5RQpKG-8xYeL"
      }
    },
    {
      "cell_type": "code",
      "source": [
        "pip install nest_asyncio"
      ],
      "metadata": {
        "colab": {
          "base_uri": "https://localhost:8080/"
        },
        "id": "7nSg5oHOx1_2",
        "outputId": "9d2be440-9a4f-4c86-bd59-b8be4e189562"
      },
      "execution_count": 1,
      "outputs": [
        {
          "output_type": "stream",
          "name": "stdout",
          "text": [
            "Requirement already satisfied: nest_asyncio in /usr/local/lib/python3.10/dist-packages (1.5.8)\n"
          ]
        }
      ]
    },
    {
      "cell_type": "code",
      "source": [
        "pip install Sastrawi"
      ],
      "metadata": {
        "colab": {
          "base_uri": "https://localhost:8080/"
        },
        "id": "ftzRNvtTx3TX",
        "outputId": "925f8702-07a0-4f33-b0ad-2aa47a3dc0a9"
      },
      "execution_count": 2,
      "outputs": [
        {
          "output_type": "stream",
          "name": "stdout",
          "text": [
            "Collecting Sastrawi\n",
            "  Downloading Sastrawi-1.0.1-py2.py3-none-any.whl (209 kB)\n",
            "\u001b[?25l     \u001b[90m━━━━━━━━━━━━━━━━━━━━━━━━━━━━━━━━━━━━━━━━\u001b[0m \u001b[32m0.0/209.7 kB\u001b[0m \u001b[31m?\u001b[0m eta \u001b[36m-:--:--\u001b[0m\r\u001b[2K     \u001b[91m━━━━━━━━━━━\u001b[0m\u001b[91m╸\u001b[0m\u001b[90m━━━━━━━━━━━━━━━━━━━━━━━━━━━━\u001b[0m \u001b[32m61.4/209.7 kB\u001b[0m \u001b[31m1.8 MB/s\u001b[0m eta \u001b[36m0:00:01\u001b[0m\r\u001b[2K     \u001b[90m━━━━━━━━━━━━━━━━━━━━━━━━━━━━━━━━━━━━━━━━\u001b[0m \u001b[32m209.7/209.7 kB\u001b[0m \u001b[31m4.1 MB/s\u001b[0m eta \u001b[36m0:00:00\u001b[0m\n",
            "\u001b[?25hInstalling collected packages: Sastrawi\n",
            "Successfully installed Sastrawi-1.0.1\n"
          ]
        }
      ]
    },
    {
      "cell_type": "code",
      "source": [
        "pip install scikeras"
      ],
      "metadata": {
        "colab": {
          "base_uri": "https://localhost:8080/"
        },
        "id": "GvnUzVlpx3X3",
        "outputId": "2b06c1b8-4cd6-4774-d6f7-70c236b094de"
      },
      "execution_count": 3,
      "outputs": [
        {
          "output_type": "stream",
          "name": "stdout",
          "text": [
            "Collecting scikeras\n",
            "  Downloading scikeras-0.12.0-py3-none-any.whl (27 kB)\n",
            "Requirement already satisfied: packaging>=0.21 in /usr/local/lib/python3.10/dist-packages (from scikeras) (23.2)\n",
            "Requirement already satisfied: scikit-learn>=1.0.0 in /usr/local/lib/python3.10/dist-packages (from scikeras) (1.2.2)\n",
            "Requirement already satisfied: numpy>=1.17.3 in /usr/local/lib/python3.10/dist-packages (from scikit-learn>=1.0.0->scikeras) (1.23.5)\n",
            "Requirement already satisfied: scipy>=1.3.2 in /usr/local/lib/python3.10/dist-packages (from scikit-learn>=1.0.0->scikeras) (1.11.3)\n",
            "Requirement already satisfied: joblib>=1.1.1 in /usr/local/lib/python3.10/dist-packages (from scikit-learn>=1.0.0->scikeras) (1.3.2)\n",
            "Requirement already satisfied: threadpoolctl>=2.0.0 in /usr/local/lib/python3.10/dist-packages (from scikit-learn>=1.0.0->scikeras) (3.2.0)\n",
            "Installing collected packages: scikeras\n",
            "Successfully installed scikeras-0.12.0\n"
          ]
        }
      ]
    },
    {
      "cell_type": "code",
      "source": [
        "!apt-get -qq install -y libfluidsynth1"
      ],
      "metadata": {
        "colab": {
          "base_uri": "https://localhost:8080/"
        },
        "id": "67EnPnIjx3dJ",
        "outputId": "37cddcbd-3727-47be-a844-a3dbb280064d"
      },
      "execution_count": 4,
      "outputs": [
        {
          "output_type": "stream",
          "name": "stdout",
          "text": [
            "E: Package 'libfluidsynth1' has no installation candidate\n"
          ]
        }
      ]
    },
    {
      "cell_type": "code",
      "source": [
        "#import some libraries\n",
        "\n",
        "import pandas as pd\n",
        "import numpy as np\n",
        "import seaborn as sns\n",
        "from sklearn.feature_extraction.text import TfidfVectorizer\n",
        "from imblearn.over_sampling import SMOTE\n",
        "from sklearn.svm import SVC\n",
        "from sklearn.ensemble import RandomForestClassifier\n",
        "from xgboost import XGBClassifier\n",
        "from sklearn.metrics import classification_report, accuracy_score\n",
        "from sklearn.pipeline import Pipeline\n",
        "from sklearn.metrics import (\n",
        "    accuracy_score,\n",
        "    confusion_matrix,\n",
        "    ConfusionMatrixDisplay,\n",
        "    f1_score,\n",
        "    classification_report,\n",
        ")"
      ],
      "metadata": {
        "id": "61oP0-8nx3iU"
      },
      "execution_count": 5,
      "outputs": []
    },
    {
      "cell_type": "code",
      "source": [
        "from google.colab import drive\n",
        "drive.mount('/content/drive')"
      ],
      "metadata": {
        "colab": {
          "base_uri": "https://localhost:8080/"
        },
        "id": "rFAGFmqOx3k3",
        "outputId": "e5de6b13-ced9-4627-b480-5fbe3897f0c4"
      },
      "execution_count": 6,
      "outputs": [
        {
          "output_type": "stream",
          "name": "stdout",
          "text": [
            "Mounted at /content/drive\n"
          ]
        }
      ]
    },
    {
      "cell_type": "code",
      "source": [
        "tweets_train=pd.read_excel('/content/drive/MyDrive/Tweets Training Model.xlsx')\n",
        "tweets_test=pd.read_excel('/content/drive/MyDrive/Tweets Testing Model fix.xlsx')\n",
        "\n",
        "tweets=pd.concat([tweets_train, tweets_test], axis=0)\n",
        "tweets.reset_index(drop=True, inplace=True)\n",
        "tweets"
      ],
      "metadata": {
        "colab": {
          "base_uri": "https://localhost:8080/",
          "height": 1000
        },
        "id": "xpnaG0ccx3nR",
        "outputId": "7c7b7e37-d7f6-4093-f610-8135a88a397e"
      },
      "execution_count": 7,
      "outputs": [
        {
          "output_type": "execute_result",
          "data": {
            "text/plain": [
              "                          created_at               id_str  \\\n",
              "0     Wed Nov 08 07:12:11 +0000 2023  1720000000000000000   \n",
              "1     Tue Nov 07 00:00:00 +0000 2023  1720000000000000000   \n",
              "2     Mon Nov 06 08:11:05 +0000 2023  1720000000000000000   \n",
              "3     Mon Nov 06 06:47:05 +0000 2023  1720000000000000000   \n",
              "4     Sat Nov 04 00:00:00 +0000 2023  1720000000000000000   \n",
              "...                              ...                  ...   \n",
              "2866  Sat May 13 09:15:00 +0000 2023  1657313482289600000   \n",
              "2867  Fri May 12 15:50:00 +0000 2023  1657050499508580096   \n",
              "2868  Fri May 12 13:40:00 +0000 2023  1657017784012790016   \n",
              "2869  Fri May 12 08:20:00 +0000 2023  1656937253137169920   \n",
              "2870  Fri May 12 02:50:00 +0000 2023  1656854205888610048   \n",
              "\n",
              "                                              full_text  quote_count  \\\n",
              "0     Ganjar Pranowo Hormati Putusan MKMK, Enggan Ko...            0   \n",
              "1     HEADLINE: Penetapan Pasangan Capres-Cawapres d...            0   \n",
              "2     Cek Fakta: Tidak Benar Ridwan Kamil Kerahkan S...            0   \n",
              "3     VIDEO: Cak Imin Incar Nomor Urut Satu di Pilpr...            0   \n",
              "4     HEADLINE: Menanti Pengumuman Timses Capres-Caw...            0   \n",
              "...                                                 ...          ...   \n",
              "2866  Pilpres Turki yang akan digelar Minggu (14/5) ...            0   \n",
              "2867  Wali Kota Solo yang juga putra Jokowi, Gibran ...            1   \n",
              "2868  Ketua DPP PPP Achmad Baidowi berbicara soal ad...            0   \n",
              "2869  Waketum NasDem, Ahmad Ali, mengatakan NasDem t...            0   \n",
              "2870  Ketum PKB Cak Imin mulai membuat ancang-ancang...            0   \n",
              "\n",
              "      reply_count  retweet_count  favorite_count lang  user_id_str  \\\n",
              "0               0              0               1   in     47596019   \n",
              "1               0              0               1   in     47596019   \n",
              "2               2              0               4   in     47596019   \n",
              "3               6             10              67   in     47596019   \n",
              "4               0              0               3   in     47596019   \n",
              "...           ...            ...             ...  ...          ...   \n",
              "2866            0              0               5   in     69183155   \n",
              "2867            2              2              10   in     69183155   \n",
              "2868            4              1               9   in     69183155   \n",
              "2869            4              0               2   in     69183155   \n",
              "2870            4              0               4   in     69183155   \n",
              "\n",
              "      conversation_id_str        username  \\\n",
              "0     1720000000000000000  liputan6dotcom   \n",
              "1     1720000000000000000  liputan6dotcom   \n",
              "2     1720000000000000000  liputan6dotcom   \n",
              "3     1720000000000000000  liputan6dotcom   \n",
              "4     1720000000000000000  liputan6dotcom   \n",
              "...                   ...             ...   \n",
              "2866  1657313482289600000        detikcom   \n",
              "2867  1657050499508580096        detikcom   \n",
              "2868  1657017784012790016        detikcom   \n",
              "2869  1656937253137169920        detikcom   \n",
              "2870  1656854205888610048        detikcom   \n",
              "\n",
              "                                              tweet_url  \\\n",
              "0     https://twitter.com/liputan6dotcom/status/1722...   \n",
              "1     https://twitter.com/liputan6dotcom/status/1721...   \n",
              "2     https://twitter.com/liputan6dotcom/status/1721...   \n",
              "3     https://twitter.com/liputan6dotcom/status/1721...   \n",
              "4     https://twitter.com/liputan6dotcom/status/1720...   \n",
              "...                                                 ...   \n",
              "2866  https://twitter.com/detikcom/status/1657313482...   \n",
              "2867  https://twitter.com/detikcom/status/1657050499...   \n",
              "2868  https://twitter.com/detikcom/status/1657017784...   \n",
              "2869  https://twitter.com/detikcom/status/1656937253...   \n",
              "2870  https://twitter.com/detikcom/status/1656854205...   \n",
              "\n",
              "                                             text_clean  \\\n",
              "0     ganjar pranowo hormati putusan mkmk enggan kom...   \n",
              "1     penetapan pasangan caprescawapres di pilpres a...   \n",
              "2     tidak benar ridwan kamil kerahkan semua warga ...   \n",
              "3             cak imin incar nomor urut satu di pilpres   \n",
              "4     menanti pengumuman timses caprescawapres pilpr...   \n",
              "...                                                 ...   \n",
              "2866  pilpres turki yang akan digelar minggu besok m...   \n",
              "2867  wali kota solo yang juga putra jokowi gibran r...   \n",
              "2868  ketua dpp pak achmad baidowi berbicara soal ad...   \n",
              "2869  waketum nasdem ahmad ali mengatakan nasdem tid...   \n",
              "2870  ketum pkb cak imin mulai membuat ancangancang ...   \n",
              "\n",
              "                                               text_eng  Positive  Negative  \\\n",
              "0     ganjar Pranowo respects mkmk's decision reluct...     0.126     0.109   \n",
              "1     determination of presidential and vice-preside...     0.153     0.000   \n",
              "2     it's not true that Ridwan Kamil mobilized all ...     0.164     0.101   \n",
              "3     cak Imin aims for number one in the presidenti...     0.126     0.000   \n",
              "4     waiting for the announcement of the presidenti...     0.141     0.000   \n",
              "...                                                 ...       ...       ...   \n",
              "2866  Turkey's presidential election which will be h...     0.000     0.126   \n",
              "2867  The mayor of Solo, who is also the son of Joko...     0.000     0.071   \n",
              "2868  DPP chairman Mr Achmad Baidowi talks about the...     0.000     0.000   \n",
              "2869  waketum nasdem ahmad ali said that nasdem had ...     0.000     0.000   \n",
              "2870  PKB chairman Cak Imin began to make plans for ...     0.064     0.000   \n",
              "\n",
              "      Neutral  Compound Sentiment  \\\n",
              "0       0.765    0.0772    netral   \n",
              "1       0.847    0.4019    netral   \n",
              "2       0.735    0.3544    netral   \n",
              "3       0.874    0.0772    netral   \n",
              "4       0.859    0.4215   positif   \n",
              "...       ...       ...       ...   \n",
              "2866    0.874   -0.3818   negatif   \n",
              "2867    0.929   -0.3182   negatif   \n",
              "2868    1.000    0.0000    netral   \n",
              "2869    1.000    0.0000    netral   \n",
              "2870    0.936    0.0772    netral   \n",
              "\n",
              "                                      text_preprocessed  \n",
              "0     ['ganjar', 'pranowo', 'hormat', 'putus', 'mkmk...  \n",
              "1     ['tetap', 'pasang', 'caprescawapres', 'pilpres...  \n",
              "2     ['ridwan', 'kamil', 'kerah', 'warga', 'jabar',...  \n",
              "3     ['cak', 'imin', 'incar', 'nomor', 'urut', 'pil...  \n",
              "4     ['umum', 'timses', 'caprescawapres', 'pilpres'...  \n",
              "...                                                 ...  \n",
              "2866  ['pilpres', 'turki', 'gelar', 'minggu', 'besok...  \n",
              "2867  ['wali', 'kota', 'solo', 'putra', 'jokowi', 'g...  \n",
              "2868  ['ketua', 'dpp', 'achmad', 'baidowi', 'bicara'...  \n",
              "2869  ['waketum', 'nasdem', 'ahmad', 'ali', 'nasdem'...  \n",
              "2870  ['tum', 'pkb', 'cak', 'imin', 'ancangancang', ...  \n",
              "\n",
              "[2871 rows x 20 columns]"
            ],
            "text/html": [
              "\n",
              "  <div id=\"df-2980bf50-02cb-4e8b-b085-40dac17cd7d8\" class=\"colab-df-container\">\n",
              "    <div>\n",
              "<style scoped>\n",
              "    .dataframe tbody tr th:only-of-type {\n",
              "        vertical-align: middle;\n",
              "    }\n",
              "\n",
              "    .dataframe tbody tr th {\n",
              "        vertical-align: top;\n",
              "    }\n",
              "\n",
              "    .dataframe thead th {\n",
              "        text-align: right;\n",
              "    }\n",
              "</style>\n",
              "<table border=\"1\" class=\"dataframe\">\n",
              "  <thead>\n",
              "    <tr style=\"text-align: right;\">\n",
              "      <th></th>\n",
              "      <th>created_at</th>\n",
              "      <th>id_str</th>\n",
              "      <th>full_text</th>\n",
              "      <th>quote_count</th>\n",
              "      <th>reply_count</th>\n",
              "      <th>retweet_count</th>\n",
              "      <th>favorite_count</th>\n",
              "      <th>lang</th>\n",
              "      <th>user_id_str</th>\n",
              "      <th>conversation_id_str</th>\n",
              "      <th>username</th>\n",
              "      <th>tweet_url</th>\n",
              "      <th>text_clean</th>\n",
              "      <th>text_eng</th>\n",
              "      <th>Positive</th>\n",
              "      <th>Negative</th>\n",
              "      <th>Neutral</th>\n",
              "      <th>Compound</th>\n",
              "      <th>Sentiment</th>\n",
              "      <th>text_preprocessed</th>\n",
              "    </tr>\n",
              "  </thead>\n",
              "  <tbody>\n",
              "    <tr>\n",
              "      <th>0</th>\n",
              "      <td>Wed Nov 08 07:12:11 +0000 2023</td>\n",
              "      <td>1720000000000000000</td>\n",
              "      <td>Ganjar Pranowo Hormati Putusan MKMK, Enggan Ko...</td>\n",
              "      <td>0</td>\n",
              "      <td>0</td>\n",
              "      <td>0</td>\n",
              "      <td>1</td>\n",
              "      <td>in</td>\n",
              "      <td>47596019</td>\n",
              "      <td>1720000000000000000</td>\n",
              "      <td>liputan6dotcom</td>\n",
              "      <td>https://twitter.com/liputan6dotcom/status/1722...</td>\n",
              "      <td>ganjar pranowo hormati putusan mkmk enggan kom...</td>\n",
              "      <td>ganjar Pranowo respects mkmk's decision reluct...</td>\n",
              "      <td>0.126</td>\n",
              "      <td>0.109</td>\n",
              "      <td>0.765</td>\n",
              "      <td>0.0772</td>\n",
              "      <td>netral</td>\n",
              "      <td>['ganjar', 'pranowo', 'hormat', 'putus', 'mkmk...</td>\n",
              "    </tr>\n",
              "    <tr>\n",
              "      <th>1</th>\n",
              "      <td>Tue Nov 07 00:00:00 +0000 2023</td>\n",
              "      <td>1720000000000000000</td>\n",
              "      <td>HEADLINE: Penetapan Pasangan Capres-Cawapres d...</td>\n",
              "      <td>0</td>\n",
              "      <td>0</td>\n",
              "      <td>0</td>\n",
              "      <td>1</td>\n",
              "      <td>in</td>\n",
              "      <td>47596019</td>\n",
              "      <td>1720000000000000000</td>\n",
              "      <td>liputan6dotcom</td>\n",
              "      <td>https://twitter.com/liputan6dotcom/status/1721...</td>\n",
              "      <td>penetapan pasangan caprescawapres di pilpres a...</td>\n",
              "      <td>determination of presidential and vice-preside...</td>\n",
              "      <td>0.153</td>\n",
              "      <td>0.000</td>\n",
              "      <td>0.847</td>\n",
              "      <td>0.4019</td>\n",
              "      <td>netral</td>\n",
              "      <td>['tetap', 'pasang', 'caprescawapres', 'pilpres...</td>\n",
              "    </tr>\n",
              "    <tr>\n",
              "      <th>2</th>\n",
              "      <td>Mon Nov 06 08:11:05 +0000 2023</td>\n",
              "      <td>1720000000000000000</td>\n",
              "      <td>Cek Fakta: Tidak Benar Ridwan Kamil Kerahkan S...</td>\n",
              "      <td>0</td>\n",
              "      <td>2</td>\n",
              "      <td>0</td>\n",
              "      <td>4</td>\n",
              "      <td>in</td>\n",
              "      <td>47596019</td>\n",
              "      <td>1720000000000000000</td>\n",
              "      <td>liputan6dotcom</td>\n",
              "      <td>https://twitter.com/liputan6dotcom/status/1721...</td>\n",
              "      <td>tidak benar ridwan kamil kerahkan semua warga ...</td>\n",
              "      <td>it's not true that Ridwan Kamil mobilized all ...</td>\n",
              "      <td>0.164</td>\n",
              "      <td>0.101</td>\n",
              "      <td>0.735</td>\n",
              "      <td>0.3544</td>\n",
              "      <td>netral</td>\n",
              "      <td>['ridwan', 'kamil', 'kerah', 'warga', 'jabar',...</td>\n",
              "    </tr>\n",
              "    <tr>\n",
              "      <th>3</th>\n",
              "      <td>Mon Nov 06 06:47:05 +0000 2023</td>\n",
              "      <td>1720000000000000000</td>\n",
              "      <td>VIDEO: Cak Imin Incar Nomor Urut Satu di Pilpr...</td>\n",
              "      <td>0</td>\n",
              "      <td>6</td>\n",
              "      <td>10</td>\n",
              "      <td>67</td>\n",
              "      <td>in</td>\n",
              "      <td>47596019</td>\n",
              "      <td>1720000000000000000</td>\n",
              "      <td>liputan6dotcom</td>\n",
              "      <td>https://twitter.com/liputan6dotcom/status/1721...</td>\n",
              "      <td>cak imin incar nomor urut satu di pilpres</td>\n",
              "      <td>cak Imin aims for number one in the presidenti...</td>\n",
              "      <td>0.126</td>\n",
              "      <td>0.000</td>\n",
              "      <td>0.874</td>\n",
              "      <td>0.0772</td>\n",
              "      <td>netral</td>\n",
              "      <td>['cak', 'imin', 'incar', 'nomor', 'urut', 'pil...</td>\n",
              "    </tr>\n",
              "    <tr>\n",
              "      <th>4</th>\n",
              "      <td>Sat Nov 04 00:00:00 +0000 2023</td>\n",
              "      <td>1720000000000000000</td>\n",
              "      <td>HEADLINE: Menanti Pengumuman Timses Capres-Caw...</td>\n",
              "      <td>0</td>\n",
              "      <td>0</td>\n",
              "      <td>0</td>\n",
              "      <td>3</td>\n",
              "      <td>in</td>\n",
              "      <td>47596019</td>\n",
              "      <td>1720000000000000000</td>\n",
              "      <td>liputan6dotcom</td>\n",
              "      <td>https://twitter.com/liputan6dotcom/status/1720...</td>\n",
              "      <td>menanti pengumuman timses caprescawapres pilpr...</td>\n",
              "      <td>waiting for the announcement of the presidenti...</td>\n",
              "      <td>0.141</td>\n",
              "      <td>0.000</td>\n",
              "      <td>0.859</td>\n",
              "      <td>0.4215</td>\n",
              "      <td>positif</td>\n",
              "      <td>['umum', 'timses', 'caprescawapres', 'pilpres'...</td>\n",
              "    </tr>\n",
              "    <tr>\n",
              "      <th>...</th>\n",
              "      <td>...</td>\n",
              "      <td>...</td>\n",
              "      <td>...</td>\n",
              "      <td>...</td>\n",
              "      <td>...</td>\n",
              "      <td>...</td>\n",
              "      <td>...</td>\n",
              "      <td>...</td>\n",
              "      <td>...</td>\n",
              "      <td>...</td>\n",
              "      <td>...</td>\n",
              "      <td>...</td>\n",
              "      <td>...</td>\n",
              "      <td>...</td>\n",
              "      <td>...</td>\n",
              "      <td>...</td>\n",
              "      <td>...</td>\n",
              "      <td>...</td>\n",
              "      <td>...</td>\n",
              "      <td>...</td>\n",
              "    </tr>\n",
              "    <tr>\n",
              "      <th>2866</th>\n",
              "      <td>Sat May 13 09:15:00 +0000 2023</td>\n",
              "      <td>1657313482289600000</td>\n",
              "      <td>Pilpres Turki yang akan digelar Minggu (14/5) ...</td>\n",
              "      <td>0</td>\n",
              "      <td>0</td>\n",
              "      <td>0</td>\n",
              "      <td>5</td>\n",
              "      <td>in</td>\n",
              "      <td>69183155</td>\n",
              "      <td>1657313482289600000</td>\n",
              "      <td>detikcom</td>\n",
              "      <td>https://twitter.com/detikcom/status/1657313482...</td>\n",
              "      <td>pilpres turki yang akan digelar minggu besok m...</td>\n",
              "      <td>Turkey's presidential election which will be h...</td>\n",
              "      <td>0.000</td>\n",
              "      <td>0.126</td>\n",
              "      <td>0.874</td>\n",
              "      <td>-0.3818</td>\n",
              "      <td>negatif</td>\n",
              "      <td>['pilpres', 'turki', 'gelar', 'minggu', 'besok...</td>\n",
              "    </tr>\n",
              "    <tr>\n",
              "      <th>2867</th>\n",
              "      <td>Fri May 12 15:50:00 +0000 2023</td>\n",
              "      <td>1657050499508580096</td>\n",
              "      <td>Wali Kota Solo yang juga putra Jokowi, Gibran ...</td>\n",
              "      <td>1</td>\n",
              "      <td>2</td>\n",
              "      <td>2</td>\n",
              "      <td>10</td>\n",
              "      <td>in</td>\n",
              "      <td>69183155</td>\n",
              "      <td>1657050499508580096</td>\n",
              "      <td>detikcom</td>\n",
              "      <td>https://twitter.com/detikcom/status/1657050499...</td>\n",
              "      <td>wali kota solo yang juga putra jokowi gibran r...</td>\n",
              "      <td>The mayor of Solo, who is also the son of Joko...</td>\n",
              "      <td>0.000</td>\n",
              "      <td>0.071</td>\n",
              "      <td>0.929</td>\n",
              "      <td>-0.3182</td>\n",
              "      <td>negatif</td>\n",
              "      <td>['wali', 'kota', 'solo', 'putra', 'jokowi', 'g...</td>\n",
              "    </tr>\n",
              "    <tr>\n",
              "      <th>2868</th>\n",
              "      <td>Fri May 12 13:40:00 +0000 2023</td>\n",
              "      <td>1657017784012790016</td>\n",
              "      <td>Ketua DPP PPP Achmad Baidowi berbicara soal ad...</td>\n",
              "      <td>0</td>\n",
              "      <td>4</td>\n",
              "      <td>1</td>\n",
              "      <td>9</td>\n",
              "      <td>in</td>\n",
              "      <td>69183155</td>\n",
              "      <td>1657017784012790016</td>\n",
              "      <td>detikcom</td>\n",
              "      <td>https://twitter.com/detikcom/status/1657017784...</td>\n",
              "      <td>ketua dpp pak achmad baidowi berbicara soal ad...</td>\n",
              "      <td>DPP chairman Mr Achmad Baidowi talks about the...</td>\n",
              "      <td>0.000</td>\n",
              "      <td>0.000</td>\n",
              "      <td>1.000</td>\n",
              "      <td>0.0000</td>\n",
              "      <td>netral</td>\n",
              "      <td>['ketua', 'dpp', 'achmad', 'baidowi', 'bicara'...</td>\n",
              "    </tr>\n",
              "    <tr>\n",
              "      <th>2869</th>\n",
              "      <td>Fri May 12 08:20:00 +0000 2023</td>\n",
              "      <td>1656937253137169920</td>\n",
              "      <td>Waketum NasDem, Ahmad Ali, mengatakan NasDem t...</td>\n",
              "      <td>0</td>\n",
              "      <td>4</td>\n",
              "      <td>0</td>\n",
              "      <td>2</td>\n",
              "      <td>in</td>\n",
              "      <td>69183155</td>\n",
              "      <td>1656937253137169920</td>\n",
              "      <td>detikcom</td>\n",
              "      <td>https://twitter.com/detikcom/status/1656937253...</td>\n",
              "      <td>waketum nasdem ahmad ali mengatakan nasdem tid...</td>\n",
              "      <td>waketum nasdem ahmad ali said that nasdem had ...</td>\n",
              "      <td>0.000</td>\n",
              "      <td>0.000</td>\n",
              "      <td>1.000</td>\n",
              "      <td>0.0000</td>\n",
              "      <td>netral</td>\n",
              "      <td>['waketum', 'nasdem', 'ahmad', 'ali', 'nasdem'...</td>\n",
              "    </tr>\n",
              "    <tr>\n",
              "      <th>2870</th>\n",
              "      <td>Fri May 12 02:50:00 +0000 2023</td>\n",
              "      <td>1656854205888610048</td>\n",
              "      <td>Ketum PKB Cak Imin mulai membuat ancang-ancang...</td>\n",
              "      <td>0</td>\n",
              "      <td>4</td>\n",
              "      <td>0</td>\n",
              "      <td>4</td>\n",
              "      <td>in</td>\n",
              "      <td>69183155</td>\n",
              "      <td>1656854205888610048</td>\n",
              "      <td>detikcom</td>\n",
              "      <td>https://twitter.com/detikcom/status/1656854205...</td>\n",
              "      <td>ketum pkb cak imin mulai membuat ancangancang ...</td>\n",
              "      <td>PKB chairman Cak Imin began to make plans for ...</td>\n",
              "      <td>0.064</td>\n",
              "      <td>0.000</td>\n",
              "      <td>0.936</td>\n",
              "      <td>0.0772</td>\n",
              "      <td>netral</td>\n",
              "      <td>['tum', 'pkb', 'cak', 'imin', 'ancangancang', ...</td>\n",
              "    </tr>\n",
              "  </tbody>\n",
              "</table>\n",
              "<p>2871 rows × 20 columns</p>\n",
              "</div>\n",
              "    <div class=\"colab-df-buttons\">\n",
              "\n",
              "  <div class=\"colab-df-container\">\n",
              "    <button class=\"colab-df-convert\" onclick=\"convertToInteractive('df-2980bf50-02cb-4e8b-b085-40dac17cd7d8')\"\n",
              "            title=\"Convert this dataframe to an interactive table.\"\n",
              "            style=\"display:none;\">\n",
              "\n",
              "  <svg xmlns=\"http://www.w3.org/2000/svg\" height=\"24px\" viewBox=\"0 -960 960 960\">\n",
              "    <path d=\"M120-120v-720h720v720H120Zm60-500h600v-160H180v160Zm220 220h160v-160H400v160Zm0 220h160v-160H400v160ZM180-400h160v-160H180v160Zm440 0h160v-160H620v160ZM180-180h160v-160H180v160Zm440 0h160v-160H620v160Z\"/>\n",
              "  </svg>\n",
              "    </button>\n",
              "\n",
              "  <style>\n",
              "    .colab-df-container {\n",
              "      display:flex;\n",
              "      gap: 12px;\n",
              "    }\n",
              "\n",
              "    .colab-df-convert {\n",
              "      background-color: #E8F0FE;\n",
              "      border: none;\n",
              "      border-radius: 50%;\n",
              "      cursor: pointer;\n",
              "      display: none;\n",
              "      fill: #1967D2;\n",
              "      height: 32px;\n",
              "      padding: 0 0 0 0;\n",
              "      width: 32px;\n",
              "    }\n",
              "\n",
              "    .colab-df-convert:hover {\n",
              "      background-color: #E2EBFA;\n",
              "      box-shadow: 0px 1px 2px rgba(60, 64, 67, 0.3), 0px 1px 3px 1px rgba(60, 64, 67, 0.15);\n",
              "      fill: #174EA6;\n",
              "    }\n",
              "\n",
              "    .colab-df-buttons div {\n",
              "      margin-bottom: 4px;\n",
              "    }\n",
              "\n",
              "    [theme=dark] .colab-df-convert {\n",
              "      background-color: #3B4455;\n",
              "      fill: #D2E3FC;\n",
              "    }\n",
              "\n",
              "    [theme=dark] .colab-df-convert:hover {\n",
              "      background-color: #434B5C;\n",
              "      box-shadow: 0px 1px 3px 1px rgba(0, 0, 0, 0.15);\n",
              "      filter: drop-shadow(0px 1px 2px rgba(0, 0, 0, 0.3));\n",
              "      fill: #FFFFFF;\n",
              "    }\n",
              "  </style>\n",
              "\n",
              "    <script>\n",
              "      const buttonEl =\n",
              "        document.querySelector('#df-2980bf50-02cb-4e8b-b085-40dac17cd7d8 button.colab-df-convert');\n",
              "      buttonEl.style.display =\n",
              "        google.colab.kernel.accessAllowed ? 'block' : 'none';\n",
              "\n",
              "      async function convertToInteractive(key) {\n",
              "        const element = document.querySelector('#df-2980bf50-02cb-4e8b-b085-40dac17cd7d8');\n",
              "        const dataTable =\n",
              "          await google.colab.kernel.invokeFunction('convertToInteractive',\n",
              "                                                    [key], {});\n",
              "        if (!dataTable) return;\n",
              "\n",
              "        const docLinkHtml = 'Like what you see? Visit the ' +\n",
              "          '<a target=\"_blank\" href=https://colab.research.google.com/notebooks/data_table.ipynb>data table notebook</a>'\n",
              "          + ' to learn more about interactive tables.';\n",
              "        element.innerHTML = '';\n",
              "        dataTable['output_type'] = 'display_data';\n",
              "        await google.colab.output.renderOutput(dataTable, element);\n",
              "        const docLink = document.createElement('div');\n",
              "        docLink.innerHTML = docLinkHtml;\n",
              "        element.appendChild(docLink);\n",
              "      }\n",
              "    </script>\n",
              "  </div>\n",
              "\n",
              "\n",
              "<div id=\"df-0d6a0006-326d-48de-92c6-2c4edd84f519\">\n",
              "  <button class=\"colab-df-quickchart\" onclick=\"quickchart('df-0d6a0006-326d-48de-92c6-2c4edd84f519')\"\n",
              "            title=\"Suggest charts\"\n",
              "            style=\"display:none;\">\n",
              "\n",
              "<svg xmlns=\"http://www.w3.org/2000/svg\" height=\"24px\"viewBox=\"0 0 24 24\"\n",
              "     width=\"24px\">\n",
              "    <g>\n",
              "        <path d=\"M19 3H5c-1.1 0-2 .9-2 2v14c0 1.1.9 2 2 2h14c1.1 0 2-.9 2-2V5c0-1.1-.9-2-2-2zM9 17H7v-7h2v7zm4 0h-2V7h2v10zm4 0h-2v-4h2v4z\"/>\n",
              "    </g>\n",
              "</svg>\n",
              "  </button>\n",
              "\n",
              "<style>\n",
              "  .colab-df-quickchart {\n",
              "      --bg-color: #E8F0FE;\n",
              "      --fill-color: #1967D2;\n",
              "      --hover-bg-color: #E2EBFA;\n",
              "      --hover-fill-color: #174EA6;\n",
              "      --disabled-fill-color: #AAA;\n",
              "      --disabled-bg-color: #DDD;\n",
              "  }\n",
              "\n",
              "  [theme=dark] .colab-df-quickchart {\n",
              "      --bg-color: #3B4455;\n",
              "      --fill-color: #D2E3FC;\n",
              "      --hover-bg-color: #434B5C;\n",
              "      --hover-fill-color: #FFFFFF;\n",
              "      --disabled-bg-color: #3B4455;\n",
              "      --disabled-fill-color: #666;\n",
              "  }\n",
              "\n",
              "  .colab-df-quickchart {\n",
              "    background-color: var(--bg-color);\n",
              "    border: none;\n",
              "    border-radius: 50%;\n",
              "    cursor: pointer;\n",
              "    display: none;\n",
              "    fill: var(--fill-color);\n",
              "    height: 32px;\n",
              "    padding: 0;\n",
              "    width: 32px;\n",
              "  }\n",
              "\n",
              "  .colab-df-quickchart:hover {\n",
              "    background-color: var(--hover-bg-color);\n",
              "    box-shadow: 0 1px 2px rgba(60, 64, 67, 0.3), 0 1px 3px 1px rgba(60, 64, 67, 0.15);\n",
              "    fill: var(--button-hover-fill-color);\n",
              "  }\n",
              "\n",
              "  .colab-df-quickchart-complete:disabled,\n",
              "  .colab-df-quickchart-complete:disabled:hover {\n",
              "    background-color: var(--disabled-bg-color);\n",
              "    fill: var(--disabled-fill-color);\n",
              "    box-shadow: none;\n",
              "  }\n",
              "\n",
              "  .colab-df-spinner {\n",
              "    border: 2px solid var(--fill-color);\n",
              "    border-color: transparent;\n",
              "    border-bottom-color: var(--fill-color);\n",
              "    animation:\n",
              "      spin 1s steps(1) infinite;\n",
              "  }\n",
              "\n",
              "  @keyframes spin {\n",
              "    0% {\n",
              "      border-color: transparent;\n",
              "      border-bottom-color: var(--fill-color);\n",
              "      border-left-color: var(--fill-color);\n",
              "    }\n",
              "    20% {\n",
              "      border-color: transparent;\n",
              "      border-left-color: var(--fill-color);\n",
              "      border-top-color: var(--fill-color);\n",
              "    }\n",
              "    30% {\n",
              "      border-color: transparent;\n",
              "      border-left-color: var(--fill-color);\n",
              "      border-top-color: var(--fill-color);\n",
              "      border-right-color: var(--fill-color);\n",
              "    }\n",
              "    40% {\n",
              "      border-color: transparent;\n",
              "      border-right-color: var(--fill-color);\n",
              "      border-top-color: var(--fill-color);\n",
              "    }\n",
              "    60% {\n",
              "      border-color: transparent;\n",
              "      border-right-color: var(--fill-color);\n",
              "    }\n",
              "    80% {\n",
              "      border-color: transparent;\n",
              "      border-right-color: var(--fill-color);\n",
              "      border-bottom-color: var(--fill-color);\n",
              "    }\n",
              "    90% {\n",
              "      border-color: transparent;\n",
              "      border-bottom-color: var(--fill-color);\n",
              "    }\n",
              "  }\n",
              "</style>\n",
              "\n",
              "  <script>\n",
              "    async function quickchart(key) {\n",
              "      const quickchartButtonEl =\n",
              "        document.querySelector('#' + key + ' button');\n",
              "      quickchartButtonEl.disabled = true;  // To prevent multiple clicks.\n",
              "      quickchartButtonEl.classList.add('colab-df-spinner');\n",
              "      try {\n",
              "        const charts = await google.colab.kernel.invokeFunction(\n",
              "            'suggestCharts', [key], {});\n",
              "      } catch (error) {\n",
              "        console.error('Error during call to suggestCharts:', error);\n",
              "      }\n",
              "      quickchartButtonEl.classList.remove('colab-df-spinner');\n",
              "      quickchartButtonEl.classList.add('colab-df-quickchart-complete');\n",
              "    }\n",
              "    (() => {\n",
              "      let quickchartButtonEl =\n",
              "        document.querySelector('#df-0d6a0006-326d-48de-92c6-2c4edd84f519 button');\n",
              "      quickchartButtonEl.style.display =\n",
              "        google.colab.kernel.accessAllowed ? 'block' : 'none';\n",
              "    })();\n",
              "  </script>\n",
              "</div>\n",
              "    </div>\n",
              "  </div>\n"
            ]
          },
          "metadata": {},
          "execution_count": 7
        }
      ]
    },
    {
      "cell_type": "code",
      "source": [
        "tweets_train.shape"
      ],
      "metadata": {
        "colab": {
          "base_uri": "https://localhost:8080/"
        },
        "id": "AKjYi5NEx3px",
        "outputId": "990e1b21-dc67-4556-bc32-13cf92061b24"
      },
      "execution_count": 8,
      "outputs": [
        {
          "output_type": "execute_result",
          "data": {
            "text/plain": [
              "(2261, 20)"
            ]
          },
          "metadata": {},
          "execution_count": 8
        }
      ]
    },
    {
      "cell_type": "code",
      "source": [
        "tweets_test.shape"
      ],
      "metadata": {
        "colab": {
          "base_uri": "https://localhost:8080/"
        },
        "id": "ZFn5IVIkx3sn",
        "outputId": "093d375a-9b2a-4c8e-b72c-b1ec04439199"
      },
      "execution_count": 9,
      "outputs": [
        {
          "output_type": "execute_result",
          "data": {
            "text/plain": [
              "(610, 20)"
            ]
          },
          "metadata": {},
          "execution_count": 9
        }
      ]
    },
    {
      "cell_type": "markdown",
      "source": [
        "### TF-IDF"
      ],
      "metadata": {
        "id": "mkNBUVKv8HXF"
      }
    },
    {
      "cell_type": "code",
      "source": [
        "import nltk\n",
        "from nltk.corpus import stopwords\n",
        "nltk.download('stopwords')\n",
        "\n",
        "X_clean=tweets['text_clean']\n",
        "\n",
        "# Inisialisasi TfidfVectorizer\n",
        "stop_words = set(stopwords.words('indonesian'))\n",
        "tfidf_vectorizer = TfidfVectorizer(stop_words=stopwords.words('indonesian'))\n",
        "\n",
        "# Fit dan transform teks menjadi representasi TF-IDF\n",
        "# X\n",
        "X = tfidf_vectorizer.fit_transform(X_clean)"
      ],
      "metadata": {
        "colab": {
          "base_uri": "https://localhost:8080/"
        },
        "id": "da-a-PEa8QMU",
        "outputId": "20af878a-06b9-4565-95e2-05cda8effd03"
      },
      "execution_count": 10,
      "outputs": [
        {
          "output_type": "stream",
          "name": "stderr",
          "text": [
            "[nltk_data] Downloading package stopwords to /root/nltk_data...\n",
            "[nltk_data]   Unzipping corpora/stopwords.zip.\n",
            "/usr/local/lib/python3.10/dist-packages/sklearn/feature_extraction/text.py:409: UserWarning: Your stop_words may be inconsistent with your preprocessing. Tokenizing the stop words generated tokens ['baiknya', 'berkali', 'kali', 'kurangnya', 'mata', 'olah', 'sekurang', 'setidak', 'tama', 'tidaknya'] not in stop_words.\n",
            "  warnings.warn(\n"
          ]
        }
      ]
    },
    {
      "cell_type": "code",
      "source": [
        "X.shape"
      ],
      "metadata": {
        "colab": {
          "base_uri": "https://localhost:8080/"
        },
        "id": "7DypVH198cH-",
        "outputId": "beed9567-d3a7-4cb6-9b06-ab1de65982b4"
      },
      "execution_count": 11,
      "outputs": [
        {
          "output_type": "execute_result",
          "data": {
            "text/plain": [
              "(2871, 4556)"
            ]
          },
          "metadata": {},
          "execution_count": 11
        }
      ]
    },
    {
      "cell_type": "code",
      "source": [
        "print(X)"
      ],
      "metadata": {
        "colab": {
          "base_uri": "https://localhost:8080/"
        },
        "id": "liyc_kI0u9ns",
        "outputId": "66928464-1b1a-481e-b4c5-789b214d813d"
      },
      "execution_count": 12,
      "outputs": [
        {
          "output_type": "stream",
          "name": "stdout",
          "text": [
            "  (0, 3363)\t0.06379323315486483\n",
            "  (0, 2210)\t0.21867822046311075\n",
            "  (0, 1292)\t0.19578555999671876\n",
            "  (0, 1972)\t0.4968123197561487\n",
            "  (0, 1142)\t0.3994957738478563\n",
            "  (0, 2786)\t0.3836191593324968\n",
            "  (0, 3554)\t0.3153959533033056\n",
            "  (0, 1443)\t0.4348491127012424\n",
            "  (0, 3467)\t0.2040165338849294\n",
            "  (0, 1232)\t0.16125804082021256\n",
            "  (1, 4283)\t0.4502630268119216\n",
            "  (1, 122)\t0.5466216015802612\n",
            "  (1, 642)\t0.3050048678614315\n",
            "  (1, 3054)\t0.26478887542186724\n",
            "  (1, 3181)\t0.5748046780114684\n",
            "  (1, 3363)\t0.07018899872332254\n",
            "  (2, 311)\t0.22098673796037868\n",
            "  (2, 146)\t0.18874503525295772\n",
            "  (2, 2420)\t0.3252866111023516\n",
            "  (2, 1567)\t0.41729002187185493\n",
            "  (2, 4493)\t0.3780630286442189\n",
            "  (2, 1869)\t0.5100596381678594\n",
            "  (2, 1708)\t0.3371518693033531\n",
            "  (2, 3667)\t0.33904982679771134\n",
            "  (2, 3363)\t0.062283027020646406\n",
            "  :\t:\n",
            "  (2868, 650)\t0.18984416071966412\n",
            "  (2868, 3363)\t0.06314701128542112\n",
            "  (2868, 1232)\t0.15962450592241717\n",
            "  (2869, 361)\t0.3857976411980491\n",
            "  (2869, 78)\t0.3517933951644492\n",
            "  (2869, 2336)\t0.3007020039195271\n",
            "  (2869, 1523)\t0.3319021863694971\n",
            "  (2869, 2870)\t0.47133523965000285\n",
            "  (2869, 4479)\t0.28378490309724924\n",
            "  (2869, 35)\t0.28378490309724924\n",
            "  (2869, 1960)\t0.1792813885897688\n",
            "  (2869, 3160)\t0.23269351185232717\n",
            "  (2869, 631)\t0.17976952950404548\n",
            "  (2869, 146)\t0.15012314357730322\n",
            "  (2869, 3363)\t0.049538382799412126\n",
            "  (2870, 2428)\t0.47892194045548003\n",
            "  (2870, 2236)\t0.33501245219248615\n",
            "  (2870, 4491)\t0.36622759285082956\n",
            "  (2870, 3379)\t0.24477493979259476\n",
            "  (2870, 504)\t0.30260317771428813\n",
            "  (2870, 1914)\t0.259766507089899\n",
            "  (2870, 1485)\t0.2088461476136992\n",
            "  (2870, 628)\t0.22550680560361017\n",
            "  (2870, 122)\t0.45544006188216485\n",
            "  (2870, 3363)\t0.05848082444890987\n"
          ]
        }
      ]
    },
    {
      "cell_type": "markdown",
      "source": [
        "### Train-Test Split"
      ],
      "metadata": {
        "id": "S6VOQWfMIl3p"
      }
    },
    {
      "cell_type": "code",
      "source": [
        "from scipy.sparse import csr_matrix\n",
        "\n",
        "X_train = X[:len(tweets_train)]\n",
        "X_test = X[len(tweets_train):]"
      ],
      "metadata": {
        "id": "HfkNjFMdZxu_"
      },
      "execution_count": 14,
      "outputs": []
    },
    {
      "cell_type": "code",
      "source": [
        "X_train.shape"
      ],
      "metadata": {
        "colab": {
          "base_uri": "https://localhost:8080/"
        },
        "id": "CswHCNsIbcX5",
        "outputId": "9b1a1bc8-5f08-4aba-defb-67cf220979a5"
      },
      "execution_count": 15,
      "outputs": [
        {
          "output_type": "execute_result",
          "data": {
            "text/plain": [
              "(2261, 4556)"
            ]
          },
          "metadata": {},
          "execution_count": 15
        }
      ]
    },
    {
      "cell_type": "code",
      "source": [
        "X_test.shape"
      ],
      "metadata": {
        "colab": {
          "base_uri": "https://localhost:8080/"
        },
        "id": "CYCfc3y3bccu",
        "outputId": "e1457db4-d813-468f-cea9-d101db777594"
      },
      "execution_count": 16,
      "outputs": [
        {
          "output_type": "execute_result",
          "data": {
            "text/plain": [
              "(610, 4556)"
            ]
          },
          "metadata": {},
          "execution_count": 16
        }
      ]
    },
    {
      "cell_type": "code",
      "source": [
        "# y\n",
        "polarity_encode={'negatif':0, 'netral':1, 'positif':2}\n",
        "y=tweets['Sentiment'].map(polarity_encode)\n",
        "y"
      ],
      "metadata": {
        "colab": {
          "base_uri": "https://localhost:8080/"
        },
        "id": "6y51tI0_w0RS",
        "outputId": "b28f3376-9d4c-4821-faba-14d6da5bfe07"
      },
      "execution_count": 25,
      "outputs": [
        {
          "output_type": "execute_result",
          "data": {
            "text/plain": [
              "0       1\n",
              "1       1\n",
              "2       1\n",
              "3       1\n",
              "4       2\n",
              "       ..\n",
              "2866    0\n",
              "2867    0\n",
              "2868    1\n",
              "2869    1\n",
              "2870    1\n",
              "Name: Sentiment, Length: 2871, dtype: int64"
            ]
          },
          "metadata": {},
          "execution_count": 25
        }
      ]
    },
    {
      "cell_type": "code",
      "source": [
        "y.shape"
      ],
      "metadata": {
        "colab": {
          "base_uri": "https://localhost:8080/"
        },
        "id": "liBcDFIQh-T5",
        "outputId": "ce500008-536b-4afb-d083-9a51248f536b"
      },
      "execution_count": 18,
      "outputs": [
        {
          "output_type": "execute_result",
          "data": {
            "text/plain": [
              "(2871,)"
            ]
          },
          "metadata": {},
          "execution_count": 18
        }
      ]
    },
    {
      "cell_type": "code",
      "source": [
        "y_train = y[:len(tweets_train)]\n",
        "y_test = y[len(tweets_train):]"
      ],
      "metadata": {
        "id": "wLA-HZGxbqtw"
      },
      "execution_count": 19,
      "outputs": []
    },
    {
      "cell_type": "code",
      "source": [
        "y_train.shape"
      ],
      "metadata": {
        "colab": {
          "base_uri": "https://localhost:8080/"
        },
        "id": "MWYWhMnUbqwm",
        "outputId": "939beb02-01e6-47bc-a746-a155f66207a2"
      },
      "execution_count": 20,
      "outputs": [
        {
          "output_type": "execute_result",
          "data": {
            "text/plain": [
              "(2261,)"
            ]
          },
          "metadata": {},
          "execution_count": 20
        }
      ]
    },
    {
      "cell_type": "code",
      "source": [
        "y_test.shape"
      ],
      "metadata": {
        "colab": {
          "base_uri": "https://localhost:8080/"
        },
        "id": "D8P6Tk3Xb2jP",
        "outputId": "6c8597f7-fae1-4eff-9539-8b999fe5429a"
      },
      "execution_count": 21,
      "outputs": [
        {
          "output_type": "execute_result",
          "data": {
            "text/plain": [
              "(610,)"
            ]
          },
          "metadata": {},
          "execution_count": 21
        }
      ]
    },
    {
      "cell_type": "code",
      "source": [
        "# y_test.reset_index(drop=True, inplace=True)"
      ],
      "metadata": {
        "id": "r_JUvXddeKF4"
      },
      "execution_count": null,
      "outputs": []
    },
    {
      "cell_type": "markdown",
      "source": [
        "### Imbalance Data"
      ],
      "metadata": {
        "id": "fv-RSdfzf0aE"
      }
    },
    {
      "cell_type": "markdown",
      "source": [
        "#### Train"
      ],
      "metadata": {
        "id": "uCBAxBfqb_B2"
      }
    },
    {
      "cell_type": "code",
      "source": [
        "tweets_train.Sentiment.value_counts()"
      ],
      "metadata": {
        "colab": {
          "base_uri": "https://localhost:8080/"
        },
        "id": "e46jnxznjOy3",
        "outputId": "48cd7cf9-1ecb-44c0-876a-e056f4b79bb5"
      },
      "execution_count": null,
      "outputs": [
        {
          "output_type": "execute_result",
          "data": {
            "text/plain": [
              "netral     1213\n",
              "positif     850\n",
              "negatif     198\n",
              "Name: Sentiment, dtype: int64"
            ]
          },
          "metadata": {},
          "execution_count": 90
        }
      ]
    },
    {
      "cell_type": "code",
      "source": [
        "sns.countplot(x='Sentiment', data=tweets_train)"
      ],
      "metadata": {
        "colab": {
          "base_uri": "https://localhost:8080/",
          "height": 467
        },
        "id": "9y0MRSwyhAsR",
        "outputId": "e615dd51-e6db-4c93-ca5a-902568c2e400"
      },
      "execution_count": null,
      "outputs": [
        {
          "output_type": "execute_result",
          "data": {
            "text/plain": [
              "<Axes: xlabel='Sentiment', ylabel='count'>"
            ]
          },
          "metadata": {},
          "execution_count": 91
        },
        {
          "output_type": "display_data",
          "data": {
            "text/plain": [
              "<Figure size 640x480 with 1 Axes>"
            ],
            "image/png": "[encoded data removed]"
          },
          "metadata": {}
        }
      ]
    },
    {
      "cell_type": "code",
      "source": [
        "X_res_train, y_res_train = SMOTE().fit_resample (X_train, y_train)\n",
        "y_res_train.value_counts()"
      ],
      "metadata": {
        "colab": {
          "base_uri": "https://localhost:8080/"
        },
        "id": "dD9a5COyhA1v",
        "outputId": "3fb673de-2bd0-4425-ca49-36c432ffb54d"
      },
      "execution_count": 22,
      "outputs": [
        {
          "output_type": "execute_result",
          "data": {
            "text/plain": [
              "1    1213\n",
              "2    1213\n",
              "0    1213\n",
              "Name: Sentiment, dtype: int64"
            ]
          },
          "metadata": {},
          "execution_count": 22
        }
      ]
    },
    {
      "cell_type": "code",
      "source": [
        "import seaborn as sns\n",
        "import matplotlib.pyplot as plt\n",
        "\n",
        "# Data yang diberikan\n",
        "data = {\n",
        "    1: 1213,\n",
        "    2: 1213,\n",
        "    0: 1213\n",
        "}\n",
        "\n",
        "# Konversi data ke dalam bentuk yang dapat diplot\n",
        "categories = list(data.keys())\n",
        "counts = list(data.values())\n",
        "\n",
        "# Membuat countplot dengan seaborn\n",
        "sns.countplot(x=categories)"
      ],
      "metadata": {
        "colab": {
          "base_uri": "https://localhost:8080/",
          "height": 448
        },
        "id": "JxuvHb_47qU8",
        "outputId": "d1fb30da-8a10-453e-c317-c93677ee6219"
      },
      "execution_count": 26,
      "outputs": [
        {
          "output_type": "execute_result",
          "data": {
            "text/plain": [
              "<Axes: ylabel='count'>"
            ]
          },
          "metadata": {},
          "execution_count": 26
        },
        {
          "output_type": "display_data",
          "data": {
            "text/plain": [
              "<Figure size 640x480 with 1 Axes>"
            ],
            "image/png": "[encoded data removed]"
          },
          "metadata": {}
        }
      ]
    },
    {
      "cell_type": "code",
      "source": [
        "X_res_train.shape"
      ],
      "metadata": {
        "colab": {
          "base_uri": "https://localhost:8080/"
        },
        "id": "G2Rxgo1QnzOb",
        "outputId": "fcb95019-64b6-4ed1-dacf-0f736c5b8840"
      },
      "execution_count": null,
      "outputs": [
        {
          "output_type": "execute_result",
          "data": {
            "text/plain": [
              "(3639, 4556)"
            ]
          },
          "metadata": {},
          "execution_count": 93
        }
      ]
    },
    {
      "cell_type": "code",
      "source": [
        "y_res_train.shape"
      ],
      "metadata": {
        "colab": {
          "base_uri": "https://localhost:8080/"
        },
        "id": "bl3UrGlin1Zm",
        "outputId": "7073a297-0846-4313-8c08-e69105ef10f7"
      },
      "execution_count": null,
      "outputs": [
        {
          "output_type": "execute_result",
          "data": {
            "text/plain": [
              "(3639,)"
            ]
          },
          "metadata": {},
          "execution_count": 94
        }
      ]
    },
    {
      "cell_type": "markdown",
      "source": [
        "#### Test"
      ],
      "metadata": {
        "id": "OEzk4HdbdPGz"
      }
    },
    {
      "cell_type": "code",
      "source": [
        "tweets_test.Sentiment.value_counts()"
      ],
      "metadata": {
        "colab": {
          "base_uri": "https://localhost:8080/"
        },
        "outputId": "da990b49-7f12-4733-ecb7-fd685c452a91",
        "id": "ekTlt2ANdSRQ"
      },
      "execution_count": null,
      "outputs": [
        {
          "output_type": "execute_result",
          "data": {
            "text/plain": [
              "netral     317\n",
              "positif    242\n",
              "negatif     51\n",
              "Name: Sentiment, dtype: int64"
            ]
          },
          "metadata": {},
          "execution_count": 95
        }
      ]
    },
    {
      "cell_type": "code",
      "source": [
        "sns.countplot(x='Sentiment', data=tweets_test)"
      ],
      "metadata": {
        "colab": {
          "base_uri": "https://localhost:8080/",
          "height": 467
        },
        "outputId": "4dcfa00b-9429-4cbc-82c0-65fe71200296",
        "id": "IArNN_wFdSRS"
      },
      "execution_count": null,
      "outputs": [
        {
          "output_type": "execute_result",
          "data": {
            "text/plain": [
              "<Axes: xlabel='Sentiment', ylabel='count'>"
            ]
          },
          "metadata": {},
          "execution_count": 96
        },
        {
          "output_type": "display_data",
          "data": {
            "text/plain": [
              "<Figure size 640x480 with 1 Axes>"
            ],
            "image/png": "[encoded data removed]"
          },
          "metadata": {}
        }
      ]
    },
    {
      "cell_type": "code",
      "source": [
        "X_res_test, y_res_test = SMOTE().fit_resample (X_test, y_test)\n",
        "y_res_test.value_counts()"
      ],
      "metadata": {
        "colab": {
          "base_uri": "https://localhost:8080/"
        },
        "outputId": "278e9161-2490-4251-9a42-13bc7f73473c",
        "id": "oRNCF-_mdSRT"
      },
      "execution_count": null,
      "outputs": [
        {
          "output_type": "execute_result",
          "data": {
            "text/plain": [
              "2    317\n",
              "1    317\n",
              "0    317\n",
              "Name: Sentiment, dtype: int64"
            ]
          },
          "metadata": {},
          "execution_count": 97
        }
      ]
    },
    {
      "cell_type": "code",
      "source": [
        "import seaborn as sns\n",
        "import matplotlib.pyplot as plt\n",
        "\n",
        "# Data yang diberikan\n",
        "data = {\n",
        "    1: 317,\n",
        "    2: 317,\n",
        "    0: 317\n",
        "}\n",
        "\n",
        "# Konversi data ke dalam bentuk yang dapat diplot\n",
        "categories = list(data.keys())\n",
        "counts = list(data.values())\n",
        "\n",
        "# Membuat countplot dengan seaborn\n",
        "sns.countplot(x=categories)"
      ],
      "metadata": {
        "colab": {
          "base_uri": "https://localhost:8080/",
          "height": 448
        },
        "id": "pU1v7YVC7wrd",
        "outputId": "cf02fd7b-818c-4194-d056-0755d3ab8dfd"
      },
      "execution_count": 27,
      "outputs": [
        {
          "output_type": "execute_result",
          "data": {
            "text/plain": [
              "<Axes: ylabel='count'>"
            ]
          },
          "metadata": {},
          "execution_count": 27
        },
        {
          "output_type": "display_data",
          "data": {
            "text/plain": [
              "<Figure size 640x480 with 1 Axes>"
            ],
            "image/png": "[encoded data removed]"
          },
          "metadata": {}
        }
      ]
    },
    {
      "cell_type": "code",
      "source": [
        "X_res_test.shape"
      ],
      "metadata": {
        "colab": {
          "base_uri": "https://localhost:8080/"
        },
        "outputId": "698bbed1-086f-4748-f5d5-10bdeebc5a68",
        "id": "SOAQMarPdSRU"
      },
      "execution_count": null,
      "outputs": [
        {
          "output_type": "execute_result",
          "data": {
            "text/plain": [
              "(951, 4556)"
            ]
          },
          "metadata": {},
          "execution_count": 98
        }
      ]
    },
    {
      "cell_type": "code",
      "source": [
        "y_res_test.shape"
      ],
      "metadata": {
        "colab": {
          "base_uri": "https://localhost:8080/"
        },
        "outputId": "02aa92bc-97f6-46eb-b65f-2a62b5e961df",
        "id": "mnO_O9JjdSRW"
      },
      "execution_count": null,
      "outputs": [
        {
          "output_type": "execute_result",
          "data": {
            "text/plain": [
              "(951,)"
            ]
          },
          "metadata": {},
          "execution_count": 99
        }
      ]
    },
    {
      "cell_type": "code",
      "source": [
        "# # X_train, X_Test after SMOTE\n",
        "# X_train = X_res[:X.shape[0]]\n",
        "# X_test = X_res[X.shape[0]:]\n",
        "\n",
        "# # y_train, y_test after SMOTE\n",
        "# y_train = y_res[:len(y)]\n",
        "# y_test = y_res[len(y):]"
      ],
      "metadata": {
        "id": "zFqsIiO7jkO8"
      },
      "execution_count": null,
      "outputs": []
    },
    {
      "cell_type": "markdown",
      "source": [
        "### SVC"
      ],
      "metadata": {
        "id": "TOEDaCvhnsd2"
      }
    },
    {
      "cell_type": "code",
      "source": [
        "# SVM\n",
        "\n",
        "svm_model = SVC()\n",
        "\n",
        "svm_model.fit(X_train, y_train)\n",
        "y_pred_train = svm_model.predict(X_train)\n",
        "y_pred_test = svm_model.predict(X_test)\n",
        "\n",
        "accuracy_train = accuracy_score(y_pred_train, y_train)\n",
        "accuracy_test = accuracy_score(y_pred_test, y_test)\n",
        "f1_train = f1_score(y_pred_train, y_train, average=\"weighted\")\n",
        "f1_test = f1_score(y_pred_test, y_test, average=\"weighted\")\n",
        "\n",
        "print(\"Accuracy Train : \", accuracy_train)\n",
        "print(\"Accuracy Test : \", accuracy_test)\n",
        "print(\"F1 Score Train : \", f1_train)\n",
        "print(\"F1 Score Test : \", f1_test)"
      ],
      "metadata": {
        "colab": {
          "base_uri": "https://localhost:8080/"
        },
        "id": "Bh4lfNmF9u-I",
        "outputId": "0716a136-7138-4df2-e95d-5811ca4f1a9f"
      },
      "execution_count": null,
      "outputs": [
        {
          "output_type": "stream",
          "name": "stdout",
          "text": [
            "Accuracy Train :  0.9438301636444051\n",
            "Accuracy Test :  0.659016393442623\n",
            "F1 Score Train :  0.9477096814678887\n",
            "F1 Score Test :  0.7009746840805103\n"
          ]
        }
      ]
    },
    {
      "cell_type": "code",
      "source": [
        "# SVM Setelah Mengatasi Imbalance\n",
        "\n",
        "svm_model = SVC(kernel='linear')\n",
        "\n",
        "svm_model.fit(X_res_train, y_res_train)\n",
        "y_pred_train = svm_model.predict(X_res_train)\n",
        "y_pred_test = svm_model.predict(X_res_test)\n",
        "\n",
        "accuracy_train = accuracy_score(y_pred_train, y_res_train)\n",
        "accuracy_test = accuracy_score(y_pred_test, y_res_test)\n",
        "f1_train = f1_score(y_pred_train, y_res_train, average=\"weighted\")\n",
        "f1_test = f1_score(y_pred_test, y_res_test, average=\"weighted\")\n",
        "\n",
        "print(\"Accuracy Train : \", accuracy_train)\n",
        "print(\"Accuracy Test : \", accuracy_test)\n",
        "print(\"F1 Score Train : \", f1_train)\n",
        "print(\"F1 Score Test : \", f1_test)"
      ],
      "metadata": {
        "colab": {
          "base_uri": "https://localhost:8080/"
        },
        "id": "MyYCm19Sktuq",
        "outputId": "99515518-a38b-4d44-b799-a22f7c927e41"
      },
      "execution_count": null,
      "outputs": [
        {
          "output_type": "stream",
          "name": "stdout",
          "text": [
            "Accuracy Train :  0.9497114591920858\n",
            "Accuracy Test :  0.5068349106203995\n",
            "F1 Score Train :  0.9499322693176648\n",
            "F1 Score Test :  0.5562604149847369\n"
          ]
        }
      ]
    },
    {
      "cell_type": "markdown",
      "source": [
        "### Random Forest"
      ],
      "metadata": {
        "id": "y54uWLDf_UYD"
      }
    },
    {
      "cell_type": "code",
      "source": [
        "# Random Forest\n",
        "\n",
        "rfc = RandomForestClassifier()\n",
        "\n",
        "rfc.fit(X_train, y_train)\n",
        "y_pred_train = rfc.predict(X_train)\n",
        "y_pred_test = rfc.predict(X_test)\n",
        "\n",
        "accuracy_train = accuracy_score(y_pred_train, y_train)\n",
        "accuracy_test = accuracy_score(y_pred_test, y_test)\n",
        "f1_train = f1_score(y_pred_train, y_train, average=\"weighted\")\n",
        "f1_test = f1_score(y_pred_test, y_test, average=\"weighted\")\n",
        "\n",
        "print(\"Accuracy Train : \", accuracy_train)\n",
        "print(\"Accuracy Test : \", accuracy_test)\n",
        "print(\"F1 Score Train : \", f1_train)\n",
        "print(\"F1 Score Test : \", f1_test)"
      ],
      "metadata": {
        "colab": {
          "base_uri": "https://localhost:8080/"
        },
        "id": "ijYNz-9Z-NEk",
        "outputId": "348d6403-ade0-4de3-c08e-b46a6bae877b"
      },
      "execution_count": null,
      "outputs": [
        {
          "output_type": "stream",
          "name": "stdout",
          "text": [
            "Accuracy Train :  1.0\n",
            "Accuracy Test :  0.6557377049180327\n",
            "F1 Score Train :  1.0\n",
            "F1 Score Test :  0.6863575040219613\n"
          ]
        }
      ]
    },
    {
      "cell_type": "code",
      "source": [
        "# Random Forest Setelah Mengatasi Imbalance\n",
        "\n",
        "rfc = RandomForestClassifier()\n",
        "\n",
        "rfc.fit(X_res_train, y_res_train)\n",
        "y_pred_train = rfc.predict(X_res_train)\n",
        "y_pred_test = rfc.predict(X_res_test)\n",
        "\n",
        "accuracy_train = accuracy_score(y_pred_train, y_res_train)\n",
        "accuracy_test = accuracy_score(y_pred_test, y_res_test)\n",
        "f1_train = f1_score(y_pred_train, y_res_train, average=\"weighted\")\n",
        "f1_test = f1_score(y_pred_test, y_res_test, average=\"weighted\")\n",
        "\n",
        "print(\"Accuracy Train : \", accuracy_train)\n",
        "print(\"Accuracy Test : \", accuracy_test)\n",
        "print(\"F1 Score Train : \", f1_train)\n",
        "print(\"F1 Score Test : \", f1_test)"
      ],
      "metadata": {
        "colab": {
          "base_uri": "https://localhost:8080/"
        },
        "id": "nQuht7dc5UUx",
        "outputId": "904e220a-c8a0-43f5-a5c6-73a2d9b4f7b6"
      },
      "execution_count": null,
      "outputs": [
        {
          "output_type": "stream",
          "name": "stdout",
          "text": [
            "Accuracy Train :  1.0\n",
            "Accuracy Test :  0.5594111461619348\n",
            "F1 Score Train :  1.0\n",
            "F1 Score Test :  0.60361887778891\n"
          ]
        }
      ]
    },
    {
      "cell_type": "markdown",
      "source": [
        "### XGBoost"
      ],
      "metadata": {
        "id": "pRVrIWm13PZM"
      }
    },
    {
      "cell_type": "code",
      "source": [
        "# XGBoost\n",
        "\n",
        "xgb = XGBClassifier()\n",
        "\n",
        "xgb.fit(X_train, y_train)\n",
        "y_pred_train = xgb.predict(X_train)\n",
        "y_pred_test = xgb.predict(X_test)\n",
        "\n",
        "accuracy_train = accuracy_score(y_pred_train, y_train)\n",
        "accuracy_test = accuracy_score(y_pred_test, y_test)\n",
        "f1_train = f1_score(y_pred_train, y_train, average=\"weighted\")\n",
        "f1_test = f1_score(y_pred_test, y_test, average=\"weighted\")\n",
        "\n",
        "print(\"Accuracy Train : \", accuracy_train)\n",
        "print(\"Accuracy Test : \", accuracy_test)\n",
        "print(\"F1 Score Train : \", f1_train)\n",
        "print(\"F1 Score Test : \", f1_test)"
      ],
      "metadata": {
        "colab": {
          "base_uri": "https://localhost:8080/"
        },
        "id": "nbyh1GV4-Uk9",
        "outputId": "2220f3e8-85cb-4214-fac8-7403253376f8"
      },
      "execution_count": null,
      "outputs": [
        {
          "output_type": "stream",
          "name": "stdout",
          "text": [
            "Accuracy Train :  0.9376382131800088\n",
            "Accuracy Test :  0.6721311475409836\n",
            "F1 Score Train :  0.9385038913158207\n",
            "F1 Score Test :  0.6935570584454511\n"
          ]
        }
      ]
    },
    {
      "cell_type": "code",
      "source": [
        "# XGBoost Setelah Mengatasi Imbalance\n",
        "\n",
        "xgb = XGBClassifier()\n",
        "\n",
        "xgb.fit(X_res_train, y_res_train)\n",
        "y_pred_train = xgb.predict(X_res_train)\n",
        "y_pred_test = xgb.predict(X_res_test)\n",
        "\n",
        "accuracy_train = accuracy_score(y_pred_train, y_res_train)\n",
        "accuracy_test = accuracy_score(y_pred_test, y_res_test)\n",
        "f1_train = f1_score(y_pred_train, y_res_train, average=\"weighted\")\n",
        "f1_test = f1_score(y_pred_test, y_res_test, average=\"weighted\")\n",
        "\n",
        "print(\"Accuracy Train : \", accuracy_train)\n",
        "print(\"Accuracy Test : \", accuracy_test)\n",
        "print(\"F1 Score Train : \", f1_train)\n",
        "print(\"F1 Score Test : \", f1_test)"
      ],
      "metadata": {
        "colab": {
          "base_uri": "https://localhost:8080/"
        },
        "id": "_mkUXKcrbQqv",
        "outputId": "e6593e8f-68a6-4adb-b905-c8744a90bfce"
      },
      "execution_count": null,
      "outputs": [
        {
          "output_type": "stream",
          "name": "stdout",
          "text": [
            "Accuracy Train :  0.9535586699642759\n",
            "Accuracy Test :  0.629863301787592\n",
            "F1 Score Train :  0.953189610946786\n",
            "F1 Score Test :  0.6404058306719626\n"
          ]
        }
      ]
    },
    {
      "cell_type": "markdown",
      "source": [
        "Dari ketiga model tersebut pada masing-masing model membandingkan matrics score antara menggunakan data asli dan juga data yang sudah dilakukan balancing.\n",
        "Secara overall data asli (tanpa balancing) menghasilkan akurasi yang lebih baik.\n",
        "\n",
        "Kemudian dari ketiga model tersebut dipilih model SVM karena model tersebut yang memiliki nilai F-Score yang lebih dekat jaraknya antara F-Score training dan testing dibandingkan model lainnya sehingga selanjutnya dilakukan hyperparameter tuning supaya mendapatkan hasil akurasi yang lebih maksimal"
      ],
      "metadata": {
        "id": "0M7yGlPoDWBu"
      }
    },
    {
      "cell_type": "markdown",
      "source": [
        "### Hyperparameter Tuning"
      ],
      "metadata": {
        "id": "lm00zKIp5pJz"
      }
    },
    {
      "cell_type": "code",
      "source": [
        "#GridSearch\n",
        "from sklearn.model_selection import GridSearchCV\n",
        "\n",
        "#Cross Validation -> Untuk menangani data yang tidak balance\n",
        "from sklearn.model_selection import StratifiedKFold\n",
        "from sklearn.model_selection import RepeatedStratifiedKFold\n",
        "\n",
        "#Evaluation\n",
        "from sklearn import metrics\n",
        "from sklearn.metrics import classification_report, roc_auc_score, roc_curve\n",
        "from sklearn.metrics import make_scorer,accuracy_score,roc_auc_score,precision_score,recall_score,f1_score,log_loss\n",
        "from sklearn.metrics import confusion_matrix"
      ],
      "metadata": {
        "id": "Gmo7kZCp1MnF"
      },
      "execution_count": null,
      "outputs": []
    },
    {
      "cell_type": "markdown",
      "source": [
        "#### SVC"
      ],
      "metadata": {
        "id": "KraB0FARttvC"
      }
    },
    {
      "cell_type": "code",
      "source": [
        "#Best Model SVC\n",
        "svc = SVC()\n",
        "param_grid = {'C': [0.1, 1, 10, 100, 1000],\n",
        "              'gamma': [1, 0.1, 0.01, 0.001, 0.0001],\n",
        "              'kernel': ['rbf','linear', 'sigmoid', 'poly']}\n",
        "grid=GridSearchCV(svc, param_grid, cv = StratifiedKFold(n_splits=5), n_jobs=-1, verbose=4)"
      ],
      "metadata": {
        "id": "-mf_uL4K5xrv"
      },
      "execution_count": null,
      "outputs": []
    },
    {
      "cell_type": "code",
      "source": [
        "grid.fit(X_train, y_train)"
      ],
      "metadata": {
        "colab": {
          "base_uri": "https://localhost:8080/",
          "height": 137
        },
        "id": "M9416OS57BMw",
        "outputId": "20999699-95d7-4458-d545-cd3d27d648dd"
      },
      "execution_count": null,
      "outputs": [
        {
          "output_type": "stream",
          "name": "stdout",
          "text": [
            "Fitting 5 folds for each of 100 candidates, totalling 500 fits\n"
          ]
        },
        {
          "output_type": "execute_result",
          "data": {
            "text/plain": [
              "GridSearchCV(cv=StratifiedKFold(n_splits=5, random_state=None, shuffle=False),\n",
              "             estimator=SVC(), n_jobs=-1,\n",
              "             param_grid={'C': [0.1, 1, 10, 100, 1000],\n",
              "                         'gamma': [1, 0.1, 0.01, 0.001, 0.0001],\n",
              "                         'kernel': ['rbf', 'linear', 'sigmoid', 'poly']},\n",
              "             verbose=4)"
            ],
            "text/html": [
              "<style>#sk-container-id-5 {color: black;background-color: white;}#sk-container-id-5 pre{padding: 0;}#sk-container-id-5 div.sk-toggleable {background-color: white;}#sk-container-id-5 label.sk-toggleable__label {cursor: pointer;display: block;width: 100%;margin-bottom: 0;padding: 0.3em;box-sizing: border-box;text-align: center;}#sk-container-id-5 label.sk-toggleable__label-arrow:before {content: \"▸\";float: left;margin-right: 0.25em;color: #696969;}#sk-container-id-5 label.sk-toggleable__label-arrow:hover:before {color: black;}#sk-container-id-5 div.sk-estimator:hover label.sk-toggleable__label-arrow:before {color: black;}#sk-container-id-5 div.sk-toggleable__content {max-height: 0;max-width: 0;overflow: hidden;text-align: left;background-color: #f0f8ff;}#sk-container-id-5 div.sk-toggleable__content pre {margin: 0.2em;color: black;border-radius: 0.25em;background-color: #f0f8ff;}#sk-container-id-5 input.sk-toggleable__control:checked~div.sk-toggleable__content {max-height: 200px;max-width: 100%;overflow: auto;}#sk-container-id-5 input.sk-toggleable__control:checked~label.sk-toggleable__label-arrow:before {content: \"▾\";}#sk-container-id-5 div.sk-estimator input.sk-toggleable__control:checked~label.sk-toggleable__label {background-color: #d4ebff;}#sk-container-id-5 div.sk-label input.sk-toggleable__control:checked~label.sk-toggleable__label {background-color: #d4ebff;}#sk-container-id-5 input.sk-hidden--visually {border: 0;clip: rect(1px 1px 1px 1px);clip: rect(1px, 1px, 1px, 1px);height: 1px;margin: -1px;overflow: hidden;padding: 0;position: absolute;width: 1px;}#sk-container-id-5 div.sk-estimator {font-family: monospace;background-color: #f0f8ff;border: 1px dotted black;border-radius: 0.25em;box-sizing: border-box;margin-bottom: 0.5em;}#sk-container-id-5 div.sk-estimator:hover {background-color: #d4ebff;}#sk-container-id-5 div.sk-parallel-item::after {content: \"\";width: 100%;border-bottom: 1px solid gray;flex-grow: 1;}#sk-container-id-5 div.sk-label:hover label.sk-toggleable__label {background-color: #d4ebff;}#sk-container-id-5 div.sk-serial::before {content: \"\";position: absolute;border-left: 1px solid gray;box-sizing: border-box;top: 0;bottom: 0;left: 50%;z-index: 0;}#sk-container-id-5 div.sk-serial {display: flex;flex-direction: column;align-items: center;background-color: white;padding-right: 0.2em;padding-left: 0.2em;position: relative;}#sk-container-id-5 div.sk-item {position: relative;z-index: 1;}#sk-container-id-5 div.sk-parallel {display: flex;align-items: stretch;justify-content: center;background-color: white;position: relative;}#sk-container-id-5 div.sk-item::before, #sk-container-id-5 div.sk-parallel-item::before {content: \"\";position: absolute;border-left: 1px solid gray;box-sizing: border-box;top: 0;bottom: 0;left: 50%;z-index: -1;}#sk-container-id-5 div.sk-parallel-item {display: flex;flex-direction: column;z-index: 1;position: relative;background-color: white;}#sk-container-id-5 div.sk-parallel-item:first-child::after {align-self: flex-end;width: 50%;}#sk-container-id-5 div.sk-parallel-item:last-child::after {align-self: flex-start;width: 50%;}#sk-container-id-5 div.sk-parallel-item:only-child::after {width: 0;}#sk-container-id-5 div.sk-dashed-wrapped {border: 1px dashed gray;margin: 0 0.4em 0.5em 0.4em;box-sizing: border-box;padding-bottom: 0.4em;background-color: white;}#sk-container-id-5 div.sk-label label {font-family: monospace;font-weight: bold;display: inline-block;line-height: 1.2em;}#sk-container-id-5 div.sk-label-container {text-align: center;}#sk-container-id-5 div.sk-container {/* jupyter's `normalize.less` sets `[hidden] { display: none; }` but bootstrap.min.css set `[hidden] { display: none !important; }` so we also need the `!important` here to be able to override the default hidden behavior on the sphinx rendered scikit-learn.org. See: https://github.com/scikit-learn/scikit-learn/issues/21755 */display: inline-block !important;position: relative;}#sk-container-id-5 div.sk-text-repr-fallback {display: none;}</style><div id=\"sk-container-id-5\" class=\"sk-top-container\"><div class=\"sk-text-repr-fallback\"><pre>GridSearchCV(cv=StratifiedKFold(n_splits=5, random_state=None, shuffle=False),\n",
              "             estimator=SVC(), n_jobs=-1,\n",
              "             param_grid={&#x27;C&#x27;: [0.1, 1, 10, 100, 1000],\n",
              "                         &#x27;gamma&#x27;: [1, 0.1, 0.01, 0.001, 0.0001],\n",
              "                         &#x27;kernel&#x27;: [&#x27;rbf&#x27;, &#x27;linear&#x27;, &#x27;sigmoid&#x27;, &#x27;poly&#x27;]},\n",
              "             verbose=4)</pre><b>In a Jupyter environment, please rerun this cell to show the HTML representation or trust the notebook. <br />On GitHub, the HTML representation is unable to render, please try loading this page with nbviewer.org.</b></div><div class=\"sk-container\" hidden><div class=\"sk-item sk-dashed-wrapped\"><div class=\"sk-label-container\"><div class=\"sk-label sk-toggleable\"><input class=\"sk-toggleable__control sk-hidden--visually\" id=\"sk-estimator-id-13\" type=\"checkbox\" ><label for=\"sk-estimator-id-13\" class=\"sk-toggleable__label sk-toggleable__label-arrow\">GridSearchCV</label><div class=\"sk-toggleable__content\"><pre>GridSearchCV(cv=StratifiedKFold(n_splits=5, random_state=None, shuffle=False),\n",
              "             estimator=SVC(), n_jobs=-1,\n",
              "             param_grid={&#x27;C&#x27;: [0.1, 1, 10, 100, 1000],\n",
              "                         &#x27;gamma&#x27;: [1, 0.1, 0.01, 0.001, 0.0001],\n",
              "                         &#x27;kernel&#x27;: [&#x27;rbf&#x27;, &#x27;linear&#x27;, &#x27;sigmoid&#x27;, &#x27;poly&#x27;]},\n",
              "             verbose=4)</pre></div></div></div><div class=\"sk-parallel\"><div class=\"sk-parallel-item\"><div class=\"sk-item\"><div class=\"sk-label-container\"><div class=\"sk-label sk-toggleable\"><input class=\"sk-toggleable__control sk-hidden--visually\" id=\"sk-estimator-id-14\" type=\"checkbox\" ><label for=\"sk-estimator-id-14\" class=\"sk-toggleable__label sk-toggleable__label-arrow\">estimator: SVC</label><div class=\"sk-toggleable__content\"><pre>SVC()</pre></div></div></div><div class=\"sk-serial\"><div class=\"sk-item\"><div class=\"sk-estimator sk-toggleable\"><input class=\"sk-toggleable__control sk-hidden--visually\" id=\"sk-estimator-id-15\" type=\"checkbox\" ><label for=\"sk-estimator-id-15\" class=\"sk-toggleable__label sk-toggleable__label-arrow\">SVC</label><div class=\"sk-toggleable__content\"><pre>SVC()</pre></div></div></div></div></div></div></div></div></div></div>"
            ]
          },
          "metadata": {},
          "execution_count": 144
        }
      ]
    },
    {
      "cell_type": "code",
      "source": [
        "print(grid.best_params_)\n",
        "print(grid.best_estimator_)"
      ],
      "metadata": {
        "colab": {
          "base_uri": "https://localhost:8080/"
        },
        "id": "_jZsvXCqBjKf",
        "outputId": "7d735f68-09b0-4d14-a0f1-831d77308c31"
      },
      "execution_count": null,
      "outputs": [
        {
          "output_type": "stream",
          "name": "stdout",
          "text": [
            "{'C': 1, 'gamma': 1, 'kernel': 'linear'}\n",
            "SVC(C=1, gamma=1, kernel='linear')\n"
          ]
        }
      ]
    },
    {
      "cell_type": "code",
      "source": [
        "# SVM (Setelah Hyperparameter Tuning)\n",
        "\n",
        "svm_model = SVC(C=1, gamma=1, kernel='linear')\n",
        "\n",
        "svm_model.fit(X_train, y_train)\n",
        "y_pred_train = svm_model.predict(X_train)\n",
        "y_pred_test = svm_model.predict(X_test)\n",
        "\n",
        "accuracy_train = accuracy_score(y_pred_train, y_train)\n",
        "accuracy_test = accuracy_score(y_pred_test, y_test)\n",
        "f1_train = f1_score(y_pred_train, y_train, average=\"weighted\")\n",
        "f1_test = f1_score(y_pred_test, y_test, average=\"weighted\")\n",
        "precision_train = precision_score(y_pred_train, y_train, average='weighted')\n",
        "precision_test = precision_score(y_pred_test, y_test, average='weighted')\n",
        "recall_train = recall_score(y_pred_train, y_train, average='weighted')\n",
        "recall_test = recall_score(y_pred_test, y_test, average='weighted')\n",
        "\n",
        "\n",
        "print(\"Accuracy Train : \", accuracy_train)\n",
        "print(\"Accuracy Test : \", accuracy_test)\n",
        "print(\"Precision Train : \", precision_train)\n",
        "print(\"Precision Test : \", precision_test)\n",
        "print(\"Recall Train : \", recall_train)\n",
        "print(\"Recall Test : \", recall_test)\n",
        "\n",
        "print(\"\\nF1 Score Train : \", f1_train)\n",
        "print(\"F1 Score Test : \", f1_test)"
      ],
      "metadata": {
        "colab": {
          "base_uri": "https://localhost:8080/"
        },
        "id": "HBaANFfBW5c5",
        "outputId": "d8e86fa5-ac0d-4667-aec3-fc28cdc293fc"
      },
      "execution_count": null,
      "outputs": [
        {
          "output_type": "stream",
          "name": "stdout",
          "text": [
            "Accuracy Train :  0.8739495798319328\n",
            "Accuracy Test :  0.6573770491803279\n",
            "Precision Train :  0.9023515251050139\n",
            "Precision Test :  0.7420684749016679\n",
            "Recall Train :  0.8739495798319328\n",
            "Recall Test :  0.6573770491803279\n",
            "\n",
            "F1 Score Train :  0.8801215958951463\n",
            "F1 Score Test :  0.6901982908556823\n"
          ]
        }
      ]
    },
    {
      "cell_type": "markdown",
      "source": [
        "#### Best Model SVC"
      ],
      "metadata": {
        "id": "jvjTkeTNtCZb"
      }
    },
    {
      "cell_type": "code",
      "source": [
        "# SVC (Best Parameters)\n",
        "\n",
        "svm_model = SVC(kernel = 'sigmoid')\n",
        "\n",
        "svm_model.fit(X_train, y_train)\n",
        "y_pred_train = svm_model.predict(X_train)\n",
        "y_pred_test = svm_model.predict(X_test)\n",
        "\n",
        "accuracy_train = accuracy_score(y_pred_train, y_train)\n",
        "accuracy_test = accuracy_score(y_pred_test, y_test)\n",
        "f1_train = f1_score(y_pred_train, y_train, average=\"weighted\")\n",
        "f1_test = f1_score(y_pred_test, y_test, average=\"weighted\")\n",
        "precision_train = precision_score(y_pred_train, y_train, average='weighted')\n",
        "precision_test = precision_score(y_pred_test, y_test, average='weighted')\n",
        "recall_train = recall_score(y_pred_train, y_train, average='weighted')\n",
        "recall_test = recall_score(y_pred_test, y_test, average='weighted')\n",
        "\n",
        "\n",
        "print(\"Accuracy Train : \", accuracy_train)\n",
        "print(\"Accuracy Test : \", accuracy_test)\n",
        "print(\"Precision Train : \", precision_train)\n",
        "print(\"Precision Test : \", precision_test)\n",
        "print(\"Recall Train : \", recall_train)\n",
        "print(\"Recall Test : \", recall_test)\n",
        "\n",
        "print(\"\\nF1 Score Train : \", f1_train)\n",
        "print(\"F1 Score Test : \", f1_test)"
      ],
      "metadata": {
        "colab": {
          "base_uri": "https://localhost:8080/"
        },
        "id": "NLg6tDLVBjSz",
        "outputId": "7b0b106a-7327-4fd9-d407-15f9174521f2"
      },
      "execution_count": null,
      "outputs": [
        {
          "output_type": "stream",
          "name": "stdout",
          "text": [
            "Accuracy Train :  0.8036267138434321\n",
            "Accuracy Test :  0.6655737704918033\n",
            "Precision Train :  0.8666880947793325\n",
            "Precision Test :  0.7522763749724533\n",
            "Recall Train :  0.8036267138434321\n",
            "Recall Test :  0.6655737704918033\n",
            "\n",
            "F1 Score Train :  0.8208539603609786\n",
            "F1 Score Test :  0.6974657264740153\n"
          ]
        }
      ]
    },
    {
      "cell_type": "markdown",
      "source": [
        "Pada Model yang telah dilakukan evaluasi Hyperparameter tuning mendapatkan hasil yang lebih baik dari model sebelumnya tetapi setelah dilakukan pencarian parameter dengan kernel = 'sigmoid' ternyata menghasilkan hasil yang lebih baik karena perbedaan F1-Score antara data train dan test lebih dekat sehingga dapat meminimalkan overfitting walaupun nilai metrics scorenya lebih kecil sedikit"
      ],
      "metadata": {
        "id": "Y4UoLMLHDecK"
      }
    },
    {
      "cell_type": "markdown",
      "source": [
        "### Confusion Matrix"
      ],
      "metadata": {
        "id": "nXwSTqNtWnq_"
      }
    },
    {
      "cell_type": "code",
      "source": [
        "cm = confusion_matrix(y_test, y_pred_test)\n",
        "disp = ConfusionMatrixDisplay(confusion_matrix=cm)\n",
        "disp.plot()"
      ],
      "metadata": {
        "colab": {
          "base_uri": "https://localhost:8080/",
          "height": 467
        },
        "id": "6hH8WXGP_n8n",
        "outputId": "1aa0a817-fcbb-47d4-c9d1-555186c76d24"
      },
      "execution_count": null,
      "outputs": [
        {
          "output_type": "execute_result",
          "data": {
            "text/plain": [
              "<sklearn.metrics._plot.confusion_matrix.ConfusionMatrixDisplay at 0x7ef13a297eb0>"
            ]
          },
          "metadata": {},
          "execution_count": 152
        },
        {
          "output_type": "display_data",
          "data": {
            "text/plain": [
              "<Figure size 640x480 with 2 Axes>"
            ],
            "image/png": "[encoded data removed]"
          },
          "metadata": {}
        }
      ]
    },
    {
      "cell_type": "code",
      "source": [],
      "metadata": {
        "id": "w0PMuAkzXUJL"
      },
      "execution_count": null,
      "outputs": []
    }
  ]
}