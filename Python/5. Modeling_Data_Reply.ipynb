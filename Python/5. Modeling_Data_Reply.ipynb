{
  "nbformat": 4,
  "nbformat_minor": 0,
  "metadata": {
    "colab": {
      "provenance": [],
      "toc_visible": true
    },
    "kernelspec": {
      "name": "python3",
      "display_name": "Python 3"
    },
    "language_info": {
      "name": "python"
    }
  },
  "cells": [
    {
      "cell_type": "markdown",
      "source": [
        "## Modeling NLP (Reply)"
      ],
      "metadata": {
        "id": "5RQpKG-8xYeL"
      }
    },
    {
      "cell_type": "code",
      "source": [
        "pip install nest_asyncio"
      ],
      "metadata": {
        "colab": {
          "base_uri": "https://localhost:8080/"
        },
        "id": "7nSg5oHOx1_2",
        "outputId": "d0652877-4f1f-4228-dcd6-1818d27defdb"
      },
      "execution_count": 1,
      "outputs": [
        {
          "output_type": "stream",
          "name": "stdout",
          "text": [
            "Requirement already satisfied: nest_asyncio in /usr/local/lib/python3.10/dist-packages (1.5.8)\n"
          ]
        }
      ]
    },
    {
      "cell_type": "code",
      "source": [
        "pip install Sastrawi"
      ],
      "metadata": {
        "colab": {
          "base_uri": "https://localhost:8080/"
        },
        "id": "ftzRNvtTx3TX",
        "outputId": "a8cb5ec5-76c2-4565-f393-729516a14c45"
      },
      "execution_count": 2,
      "outputs": [
        {
          "output_type": "stream",
          "name": "stdout",
          "text": [
            "Collecting Sastrawi\n",
            "  Downloading Sastrawi-1.0.1-py2.py3-none-any.whl (209 kB)\n",
            "\u001b[2K     \u001b[90m━━━━━━━━━━━━━━━━━━━━━━━━━━━━━━━━━━━━━━━━\u001b[0m \u001b[32m209.7/209.7 kB\u001b[0m \u001b[31m3.1 MB/s\u001b[0m eta \u001b[36m0:00:00\u001b[0m\n",
            "\u001b[?25hInstalling collected packages: Sastrawi\n",
            "Successfully installed Sastrawi-1.0.1\n"
          ]
        }
      ]
    },
    {
      "cell_type": "code",
      "source": [
        "pip install scikeras"
      ],
      "metadata": {
        "colab": {
          "base_uri": "https://localhost:8080/"
        },
        "id": "GvnUzVlpx3X3",
        "outputId": "7b716d2b-6a4a-4eef-a11f-19bf462ae911"
      },
      "execution_count": 3,
      "outputs": [
        {
          "output_type": "stream",
          "name": "stdout",
          "text": [
            "Collecting scikeras\n",
            "  Downloading scikeras-0.12.0-py3-none-any.whl (27 kB)\n",
            "Requirement already satisfied: packaging>=0.21 in /usr/local/lib/python3.10/dist-packages (from scikeras) (23.2)\n",
            "Requirement already satisfied: scikit-learn>=1.0.0 in /usr/local/lib/python3.10/dist-packages (from scikeras) (1.2.2)\n",
            "Requirement already satisfied: numpy>=1.17.3 in /usr/local/lib/python3.10/dist-packages (from scikit-learn>=1.0.0->scikeras) (1.23.5)\n",
            "Requirement already satisfied: scipy>=1.3.2 in /usr/local/lib/python3.10/dist-packages (from scikit-learn>=1.0.0->scikeras) (1.11.3)\n",
            "Requirement already satisfied: joblib>=1.1.1 in /usr/local/lib/python3.10/dist-packages (from scikit-learn>=1.0.0->scikeras) (1.3.2)\n",
            "Requirement already satisfied: threadpoolctl>=2.0.0 in /usr/local/lib/python3.10/dist-packages (from scikit-learn>=1.0.0->scikeras) (3.2.0)\n",
            "Installing collected packages: scikeras\n",
            "Successfully installed scikeras-0.12.0\n"
          ]
        }
      ]
    },
    {
      "cell_type": "code",
      "source": [
        "!apt-get -qq install -y libfluidsynth1"
      ],
      "metadata": {
        "colab": {
          "base_uri": "https://localhost:8080/"
        },
        "id": "67EnPnIjx3dJ",
        "outputId": "f0b9b133-4740-4ff3-a17f-7b7e95482e94"
      },
      "execution_count": 4,
      "outputs": [
        {
          "output_type": "stream",
          "name": "stdout",
          "text": [
            "E: Package 'libfluidsynth1' has no installation candidate\n"
          ]
        }
      ]
    },
    {
      "cell_type": "code",
      "source": [
        "#import some libraries\n",
        "\n",
        "import pandas as pd\n",
        "import numpy as np\n",
        "import seaborn as sns\n",
        "from sklearn.feature_extraction.text import TfidfVectorizer\n",
        "from imblearn.over_sampling import SMOTE\n",
        "from sklearn.svm import SVC\n",
        "from sklearn.ensemble import RandomForestClassifier\n",
        "from xgboost import XGBClassifier\n",
        "from sklearn.metrics import classification_report, accuracy_score\n",
        "from sklearn.pipeline import Pipeline\n",
        "from sklearn.metrics import (\n",
        "    accuracy_score,\n",
        "    confusion_matrix,\n",
        "    ConfusionMatrixDisplay,\n",
        "    f1_score,\n",
        "    classification_report,\n",
        ")"
      ],
      "metadata": {
        "id": "61oP0-8nx3iU"
      },
      "execution_count": 5,
      "outputs": []
    },
    {
      "cell_type": "code",
      "source": [
        "from google.colab import drive\n",
        "drive.mount('/content/drive')"
      ],
      "metadata": {
        "colab": {
          "base_uri": "https://localhost:8080/"
        },
        "id": "rFAGFmqOx3k3",
        "outputId": "33426e7a-c080-458a-f4e8-c8815cdf81a3"
      },
      "execution_count": 6,
      "outputs": [
        {
          "output_type": "stream",
          "name": "stdout",
          "text": [
            "Mounted at /content/drive\n"
          ]
        }
      ]
    },
    {
      "cell_type": "code",
      "source": [
        "reply_train=pd.read_excel('/content/drive/MyDrive/Reply Training Model.xlsx')\n",
        "reply_test=pd.read_excel('/content/drive/MyDrive/Reply Testing Model.xlsx')\n",
        "\n",
        "reply=pd.concat([reply_train, reply_test], axis=0)\n",
        "reply.reset_index(drop=True, inplace=True)\n",
        "reply"
      ],
      "metadata": {
        "colab": {
          "base_uri": "https://localhost:8080/",
          "height": 598
        },
        "id": "xpnaG0ccx3nR",
        "outputId": "31ca4938-9600-4b7a-8120-65cab4051f80"
      },
      "execution_count": 7,
      "outputs": [
        {
          "output_type": "execute_result",
          "data": {
            "text/plain": [
              "              username          created_at  \\\n",
              "0       sarkowi_namaku 2023-11-12 23:55:22   \n",
              "1        BullshitBoss1 2023-11-12 23:24:41   \n",
              "2           HansItta11 2023-11-12 23:23:07   \n",
              "3      freyadaniella79 2023-11-12 22:56:21   \n",
              "4      chy915060246419 2023-11-12 22:38:55   \n",
              "...                ...                 ...   \n",
              "11023        ariefpost 2023-05-15 10:33:36   \n",
              "11024      SandhiCimot 2023-05-15 09:57:31   \n",
              "11025      Warnilisssn 2023-05-15 09:12:43   \n",
              "11026         Poordad9 2023-05-15 08:58:44   \n",
              "11027        Seti4wone 2023-05-15 08:57:56   \n",
              "\n",
              "                                              text_clean  \\\n",
              "0                                tenang tenang ada bapak   \n",
              "1      dengan adanya dukungan dan kekuatan dari rakya...   \n",
              "2           anak karbitan yang tahu malu persis pohonnya   \n",
              "3                                            harus yakin   \n",
              "4                             ganjar mahfud pasti menang   \n",
              "...                                                  ...   \n",
              "11023        ga usah survei yang menang pasti orang jawa   \n",
              "11024  survey itu dibikin supaya pemilih tau jagoanny...   \n",
              "11025  waduh jagoan gue ketinggalan truss pusiing dac...   \n",
              "11026       ga usah survay survey sudah ketebak hasilnya   \n",
              "11027  kalau ngga menempatkan nies diurutan pertama f...   \n",
              "\n",
              "                                                text_eng  Positive  Negative  \\\n",
              "0                           calm down, calm down, daddy'     0.605     0.000   \n",
              "1      with the support and strength of the Indonesia...     0.508     0.000   \n",
              "2           a shameless carbitan child exactly the tree'     0.000     0.324   \n",
              "3                                          must be sure'     0.535     0.000   \n",
              "4                     reward Mahfud will definitely win'     0.836     0.000   \n",
              "...                                                  ...       ...       ...   \n",
              "11023  Don't need a survey, the winner will definitel...     0.481     0.000   \n",
              "11024  surveys are made so that voters know whether t...     0.235     0.159   \n",
              "11025  oh my hero missed out and then I'm confused ab...     0.178     0.376   \n",
              "11026  Don't take a survey, you can already guess the...     0.000     0.000   \n",
              "11027  If you don't put Anies in the first place, fix...     0.000     0.000   \n",
              "\n",
              "       Neutral  Compound Sentiment  \\\n",
              "0        0.395    0.5574   positif   \n",
              "1        0.492    0.9081   positif   \n",
              "2        0.676   -0.3400   negatif   \n",
              "3        0.465    0.3182   negatif   \n",
              "4        0.164    0.8807   positif   \n",
              "...        ...       ...       ...   \n",
              "11023    0.519    0.7579   positif   \n",
              "11024    0.606    0.5499   positif   \n",
              "11025    0.446   -0.4588   negatif   \n",
              "11026    1.000    0.0000   negatif   \n",
              "11027    1.000    0.0000   negatif   \n",
              "\n",
              "                                       text_preprocessed  \n",
              "0                                   ['tenang', 'tenang']  \n",
              "1      ['dukung', 'kuat', 'rakyat', 'indonesia', 'gan...  \n",
              "2        ['anak', 'karbitan', 'malu', 'persis', 'pohon']  \n",
              "3                                                     []  \n",
              "4                         ['ganjar', 'mahfud', 'menang']  \n",
              "...                                                  ...  \n",
              "11023        ['ga', 'survei', 'menang', 'orang', 'jawa']  \n",
              "11024  ['survey', 'bikin', 'pilih', 'tau', 'jago', 'm...  \n",
              "11025  ['jago', 'gue', 'tinggal', 'truss', 'pusiing',...  \n",
              "11026       ['ga', 'survay', 'survey', 'tebak', 'hasil']  \n",
              "11027  ['ngga', 'tempat', 'nies', 'urut', 'fix', 'sur...  \n",
              "\n",
              "[11028 rows x 10 columns]"
            ],
            "text/html": [
              "\n",
              "  <div id=\"df-cab53b5f-2f98-44f6-a648-568c72b8d9ca\" class=\"colab-df-container\">\n",
              "    <div>\n",
              "<style scoped>\n",
              "    .dataframe tbody tr th:only-of-type {\n",
              "        vertical-align: middle;\n",
              "    }\n",
              "\n",
              "    .dataframe tbody tr th {\n",
              "        vertical-align: top;\n",
              "    }\n",
              "\n",
              "    .dataframe thead th {\n",
              "        text-align: right;\n",
              "    }\n",
              "</style>\n",
              "<table border=\"1\" class=\"dataframe\">\n",
              "  <thead>\n",
              "    <tr style=\"text-align: right;\">\n",
              "      <th></th>\n",
              "      <th>username</th>\n",
              "      <th>created_at</th>\n",
              "      <th>text_clean</th>\n",
              "      <th>text_eng</th>\n",
              "      <th>Positive</th>\n",
              "      <th>Negative</th>\n",
              "      <th>Neutral</th>\n",
              "      <th>Compound</th>\n",
              "      <th>Sentiment</th>\n",
              "      <th>text_preprocessed</th>\n",
              "    </tr>\n",
              "  </thead>\n",
              "  <tbody>\n",
              "    <tr>\n",
              "      <th>0</th>\n",
              "      <td>sarkowi_namaku</td>\n",
              "      <td>2023-11-12 23:55:22</td>\n",
              "      <td>tenang tenang ada bapak</td>\n",
              "      <td>calm down, calm down, daddy'</td>\n",
              "      <td>0.605</td>\n",
              "      <td>0.000</td>\n",
              "      <td>0.395</td>\n",
              "      <td>0.5574</td>\n",
              "      <td>positif</td>\n",
              "      <td>['tenang', 'tenang']</td>\n",
              "    </tr>\n",
              "    <tr>\n",
              "      <th>1</th>\n",
              "      <td>BullshitBoss1</td>\n",
              "      <td>2023-11-12 23:24:41</td>\n",
              "      <td>dengan adanya dukungan dan kekuatan dari rakya...</td>\n",
              "      <td>with the support and strength of the Indonesia...</td>\n",
              "      <td>0.508</td>\n",
              "      <td>0.000</td>\n",
              "      <td>0.492</td>\n",
              "      <td>0.9081</td>\n",
              "      <td>positif</td>\n",
              "      <td>['dukung', 'kuat', 'rakyat', 'indonesia', 'gan...</td>\n",
              "    </tr>\n",
              "    <tr>\n",
              "      <th>2</th>\n",
              "      <td>HansItta11</td>\n",
              "      <td>2023-11-12 23:23:07</td>\n",
              "      <td>anak karbitan yang tahu malu persis pohonnya</td>\n",
              "      <td>a shameless carbitan child exactly the tree'</td>\n",
              "      <td>0.000</td>\n",
              "      <td>0.324</td>\n",
              "      <td>0.676</td>\n",
              "      <td>-0.3400</td>\n",
              "      <td>negatif</td>\n",
              "      <td>['anak', 'karbitan', 'malu', 'persis', 'pohon']</td>\n",
              "    </tr>\n",
              "    <tr>\n",
              "      <th>3</th>\n",
              "      <td>freyadaniella79</td>\n",
              "      <td>2023-11-12 22:56:21</td>\n",
              "      <td>harus yakin</td>\n",
              "      <td>must be sure'</td>\n",
              "      <td>0.535</td>\n",
              "      <td>0.000</td>\n",
              "      <td>0.465</td>\n",
              "      <td>0.3182</td>\n",
              "      <td>negatif</td>\n",
              "      <td>[]</td>\n",
              "    </tr>\n",
              "    <tr>\n",
              "      <th>4</th>\n",
              "      <td>chy915060246419</td>\n",
              "      <td>2023-11-12 22:38:55</td>\n",
              "      <td>ganjar mahfud pasti menang</td>\n",
              "      <td>reward Mahfud will definitely win'</td>\n",
              "      <td>0.836</td>\n",
              "      <td>0.000</td>\n",
              "      <td>0.164</td>\n",
              "      <td>0.8807</td>\n",
              "      <td>positif</td>\n",
              "      <td>['ganjar', 'mahfud', 'menang']</td>\n",
              "    </tr>\n",
              "    <tr>\n",
              "      <th>...</th>\n",
              "      <td>...</td>\n",
              "      <td>...</td>\n",
              "      <td>...</td>\n",
              "      <td>...</td>\n",
              "      <td>...</td>\n",
              "      <td>...</td>\n",
              "      <td>...</td>\n",
              "      <td>...</td>\n",
              "      <td>...</td>\n",
              "      <td>...</td>\n",
              "    </tr>\n",
              "    <tr>\n",
              "      <th>11023</th>\n",
              "      <td>ariefpost</td>\n",
              "      <td>2023-05-15 10:33:36</td>\n",
              "      <td>ga usah survei yang menang pasti orang jawa</td>\n",
              "      <td>Don't need a survey, the winner will definitel...</td>\n",
              "      <td>0.481</td>\n",
              "      <td>0.000</td>\n",
              "      <td>0.519</td>\n",
              "      <td>0.7579</td>\n",
              "      <td>positif</td>\n",
              "      <td>['ga', 'survei', 'menang', 'orang', 'jawa']</td>\n",
              "    </tr>\n",
              "    <tr>\n",
              "      <th>11024</th>\n",
              "      <td>SandhiCimot</td>\n",
              "      <td>2023-05-15 09:57:31</td>\n",
              "      <td>survey itu dibikin supaya pemilih tau jagoanny...</td>\n",
              "      <td>surveys are made so that voters know whether t...</td>\n",
              "      <td>0.235</td>\n",
              "      <td>0.159</td>\n",
              "      <td>0.606</td>\n",
              "      <td>0.5499</td>\n",
              "      <td>positif</td>\n",
              "      <td>['survey', 'bikin', 'pilih', 'tau', 'jago', 'm...</td>\n",
              "    </tr>\n",
              "    <tr>\n",
              "      <th>11025</th>\n",
              "      <td>Warnilisssn</td>\n",
              "      <td>2023-05-15 09:12:43</td>\n",
              "      <td>waduh jagoan gue ketinggalan truss pusiing dac...</td>\n",
              "      <td>oh my hero missed out and then I'm confused ab...</td>\n",
              "      <td>0.178</td>\n",
              "      <td>0.376</td>\n",
              "      <td>0.446</td>\n",
              "      <td>-0.4588</td>\n",
              "      <td>negatif</td>\n",
              "      <td>['jago', 'gue', 'tinggal', 'truss', 'pusiing',...</td>\n",
              "    </tr>\n",
              "    <tr>\n",
              "      <th>11026</th>\n",
              "      <td>Poordad9</td>\n",
              "      <td>2023-05-15 08:58:44</td>\n",
              "      <td>ga usah survay survey sudah ketebak hasilnya</td>\n",
              "      <td>Don't take a survey, you can already guess the...</td>\n",
              "      <td>0.000</td>\n",
              "      <td>0.000</td>\n",
              "      <td>1.000</td>\n",
              "      <td>0.0000</td>\n",
              "      <td>negatif</td>\n",
              "      <td>['ga', 'survay', 'survey', 'tebak', 'hasil']</td>\n",
              "    </tr>\n",
              "    <tr>\n",
              "      <th>11027</th>\n",
              "      <td>Seti4wone</td>\n",
              "      <td>2023-05-15 08:57:56</td>\n",
              "      <td>kalau ngga menempatkan nies diurutan pertama f...</td>\n",
              "      <td>If you don't put Anies in the first place, fix...</td>\n",
              "      <td>0.000</td>\n",
              "      <td>0.000</td>\n",
              "      <td>1.000</td>\n",
              "      <td>0.0000</td>\n",
              "      <td>negatif</td>\n",
              "      <td>['ngga', 'tempat', 'nies', 'urut', 'fix', 'sur...</td>\n",
              "    </tr>\n",
              "  </tbody>\n",
              "</table>\n",
              "<p>11028 rows × 10 columns</p>\n",
              "</div>\n",
              "    <div class=\"colab-df-buttons\">\n",
              "\n",
              "  <div class=\"colab-df-container\">\n",
              "    <button class=\"colab-df-convert\" onclick=\"convertToInteractive('df-cab53b5f-2f98-44f6-a648-568c72b8d9ca')\"\n",
              "            title=\"Convert this dataframe to an interactive table.\"\n",
              "            style=\"display:none;\">\n",
              "\n",
              "  <svg xmlns=\"http://www.w3.org/2000/svg\" height=\"24px\" viewBox=\"0 -960 960 960\">\n",
              "    <path d=\"M120-120v-720h720v720H120Zm60-500h600v-160H180v160Zm220 220h160v-160H400v160Zm0 220h160v-160H400v160ZM180-400h160v-160H180v160Zm440 0h160v-160H620v160ZM180-180h160v-160H180v160Zm440 0h160v-160H620v160Z\"/>\n",
              "  </svg>\n",
              "    </button>\n",
              "\n",
              "  <style>\n",
              "    .colab-df-container {\n",
              "      display:flex;\n",
              "      gap: 12px;\n",
              "    }\n",
              "\n",
              "    .colab-df-convert {\n",
              "      background-color: #E8F0FE;\n",
              "      border: none;\n",
              "      border-radius: 50%;\n",
              "      cursor: pointer;\n",
              "      display: none;\n",
              "      fill: #1967D2;\n",
              "      height: 32px;\n",
              "      padding: 0 0 0 0;\n",
              "      width: 32px;\n",
              "    }\n",
              "\n",
              "    .colab-df-convert:hover {\n",
              "      background-color: #E2EBFA;\n",
              "      box-shadow: 0px 1px 2px rgba(60, 64, 67, 0.3), 0px 1px 3px 1px rgba(60, 64, 67, 0.15);\n",
              "      fill: #174EA6;\n",
              "    }\n",
              "\n",
              "    .colab-df-buttons div {\n",
              "      margin-bottom: 4px;\n",
              "    }\n",
              "\n",
              "    [theme=dark] .colab-df-convert {\n",
              "      background-color: #3B4455;\n",
              "      fill: #D2E3FC;\n",
              "    }\n",
              "\n",
              "    [theme=dark] .colab-df-convert:hover {\n",
              "      background-color: #434B5C;\n",
              "      box-shadow: 0px 1px 3px 1px rgba(0, 0, 0, 0.15);\n",
              "      filter: drop-shadow(0px 1px 2px rgba(0, 0, 0, 0.3));\n",
              "      fill: #FFFFFF;\n",
              "    }\n",
              "  </style>\n",
              "\n",
              "    <script>\n",
              "      const buttonEl =\n",
              "        document.querySelector('#df-cab53b5f-2f98-44f6-a648-568c72b8d9ca button.colab-df-convert');\n",
              "      buttonEl.style.display =\n",
              "        google.colab.kernel.accessAllowed ? 'block' : 'none';\n",
              "\n",
              "      async function convertToInteractive(key) {\n",
              "        const element = document.querySelector('#df-cab53b5f-2f98-44f6-a648-568c72b8d9ca');\n",
              "        const dataTable =\n",
              "          await google.colab.kernel.invokeFunction('convertToInteractive',\n",
              "                                                    [key], {});\n",
              "        if (!dataTable) return;\n",
              "\n",
              "        const docLinkHtml = 'Like what you see? Visit the ' +\n",
              "          '<a target=\"_blank\" href=https://colab.research.google.com/notebooks/data_table.ipynb>data table notebook</a>'\n",
              "          + ' to learn more about interactive tables.';\n",
              "        element.innerHTML = '';\n",
              "        dataTable['output_type'] = 'display_data';\n",
              "        await google.colab.output.renderOutput(dataTable, element);\n",
              "        const docLink = document.createElement('div');\n",
              "        docLink.innerHTML = docLinkHtml;\n",
              "        element.appendChild(docLink);\n",
              "      }\n",
              "    </script>\n",
              "  </div>\n",
              "\n",
              "\n",
              "<div id=\"df-0c5b6206-e8fa-4d23-ade4-66670d12c9d9\">\n",
              "  <button class=\"colab-df-quickchart\" onclick=\"quickchart('df-0c5b6206-e8fa-4d23-ade4-66670d12c9d9')\"\n",
              "            title=\"Suggest charts\"\n",
              "            style=\"display:none;\">\n",
              "\n",
              "<svg xmlns=\"http://www.w3.org/2000/svg\" height=\"24px\"viewBox=\"0 0 24 24\"\n",
              "     width=\"24px\">\n",
              "    <g>\n",
              "        <path d=\"M19 3H5c-1.1 0-2 .9-2 2v14c0 1.1.9 2 2 2h14c1.1 0 2-.9 2-2V5c0-1.1-.9-2-2-2zM9 17H7v-7h2v7zm4 0h-2V7h2v10zm4 0h-2v-4h2v4z\"/>\n",
              "    </g>\n",
              "</svg>\n",
              "  </button>\n",
              "\n",
              "<style>\n",
              "  .colab-df-quickchart {\n",
              "      --bg-color: #E8F0FE;\n",
              "      --fill-color: #1967D2;\n",
              "      --hover-bg-color: #E2EBFA;\n",
              "      --hover-fill-color: #174EA6;\n",
              "      --disabled-fill-color: #AAA;\n",
              "      --disabled-bg-color: #DDD;\n",
              "  }\n",
              "\n",
              "  [theme=dark] .colab-df-quickchart {\n",
              "      --bg-color: #3B4455;\n",
              "      --fill-color: #D2E3FC;\n",
              "      --hover-bg-color: #434B5C;\n",
              "      --hover-fill-color: #FFFFFF;\n",
              "      --disabled-bg-color: #3B4455;\n",
              "      --disabled-fill-color: #666;\n",
              "  }\n",
              "\n",
              "  .colab-df-quickchart {\n",
              "    background-color: var(--bg-color);\n",
              "    border: none;\n",
              "    border-radius: 50%;\n",
              "    cursor: pointer;\n",
              "    display: none;\n",
              "    fill: var(--fill-color);\n",
              "    height: 32px;\n",
              "    padding: 0;\n",
              "    width: 32px;\n",
              "  }\n",
              "\n",
              "  .colab-df-quickchart:hover {\n",
              "    background-color: var(--hover-bg-color);\n",
              "    box-shadow: 0 1px 2px rgba(60, 64, 67, 0.3), 0 1px 3px 1px rgba(60, 64, 67, 0.15);\n",
              "    fill: var(--button-hover-fill-color);\n",
              "  }\n",
              "\n",
              "  .colab-df-quickchart-complete:disabled,\n",
              "  .colab-df-quickchart-complete:disabled:hover {\n",
              "    background-color: var(--disabled-bg-color);\n",
              "    fill: var(--disabled-fill-color);\n",
              "    box-shadow: none;\n",
              "  }\n",
              "\n",
              "  .colab-df-spinner {\n",
              "    border: 2px solid var(--fill-color);\n",
              "    border-color: transparent;\n",
              "    border-bottom-color: var(--fill-color);\n",
              "    animation:\n",
              "      spin 1s steps(1) infinite;\n",
              "  }\n",
              "\n",
              "  @keyframes spin {\n",
              "    0% {\n",
              "      border-color: transparent;\n",
              "      border-bottom-color: var(--fill-color);\n",
              "      border-left-color: var(--fill-color);\n",
              "    }\n",
              "    20% {\n",
              "      border-color: transparent;\n",
              "      border-left-color: var(--fill-color);\n",
              "      border-top-color: var(--fill-color);\n",
              "    }\n",
              "    30% {\n",
              "      border-color: transparent;\n",
              "      border-left-color: var(--fill-color);\n",
              "      border-top-color: var(--fill-color);\n",
              "      border-right-color: var(--fill-color);\n",
              "    }\n",
              "    40% {\n",
              "      border-color: transparent;\n",
              "      border-right-color: var(--fill-color);\n",
              "      border-top-color: var(--fill-color);\n",
              "    }\n",
              "    60% {\n",
              "      border-color: transparent;\n",
              "      border-right-color: var(--fill-color);\n",
              "    }\n",
              "    80% {\n",
              "      border-color: transparent;\n",
              "      border-right-color: var(--fill-color);\n",
              "      border-bottom-color: var(--fill-color);\n",
              "    }\n",
              "    90% {\n",
              "      border-color: transparent;\n",
              "      border-bottom-color: var(--fill-color);\n",
              "    }\n",
              "  }\n",
              "</style>\n",
              "\n",
              "  <script>\n",
              "    async function quickchart(key) {\n",
              "      const quickchartButtonEl =\n",
              "        document.querySelector('#' + key + ' button');\n",
              "      quickchartButtonEl.disabled = true;  // To prevent multiple clicks.\n",
              "      quickchartButtonEl.classList.add('colab-df-spinner');\n",
              "      try {\n",
              "        const charts = await google.colab.kernel.invokeFunction(\n",
              "            'suggestCharts', [key], {});\n",
              "      } catch (error) {\n",
              "        console.error('Error during call to suggestCharts:', error);\n",
              "      }\n",
              "      quickchartButtonEl.classList.remove('colab-df-spinner');\n",
              "      quickchartButtonEl.classList.add('colab-df-quickchart-complete');\n",
              "    }\n",
              "    (() => {\n",
              "      let quickchartButtonEl =\n",
              "        document.querySelector('#df-0c5b6206-e8fa-4d23-ade4-66670d12c9d9 button');\n",
              "      quickchartButtonEl.style.display =\n",
              "        google.colab.kernel.accessAllowed ? 'block' : 'none';\n",
              "    })();\n",
              "  </script>\n",
              "</div>\n",
              "    </div>\n",
              "  </div>\n"
            ]
          },
          "metadata": {},
          "execution_count": 7
        }
      ]
    },
    {
      "cell_type": "code",
      "source": [
        "reply_train.shape"
      ],
      "metadata": {
        "colab": {
          "base_uri": "https://localhost:8080/"
        },
        "id": "AKjYi5NEx3px",
        "outputId": "ab27f60a-5cfd-4ef2-aecf-2d9aa7d66751"
      },
      "execution_count": 8,
      "outputs": [
        {
          "output_type": "execute_result",
          "data": {
            "text/plain": [
              "(8066, 10)"
            ]
          },
          "metadata": {},
          "execution_count": 8
        }
      ]
    },
    {
      "cell_type": "code",
      "source": [
        "reply_test.shape"
      ],
      "metadata": {
        "colab": {
          "base_uri": "https://localhost:8080/"
        },
        "id": "ZFn5IVIkx3sn",
        "outputId": "83984edc-fd0e-4598-df70-3a6dad59d6fa"
      },
      "execution_count": 9,
      "outputs": [
        {
          "output_type": "execute_result",
          "data": {
            "text/plain": [
              "(2962, 10)"
            ]
          },
          "metadata": {},
          "execution_count": 9
        }
      ]
    },
    {
      "cell_type": "markdown",
      "source": [
        "### TF-IDF"
      ],
      "metadata": {
        "id": "mkNBUVKv8HXF"
      }
    },
    {
      "cell_type": "code",
      "source": [
        "import nltk\n",
        "from nltk.corpus import stopwords\n",
        "nltk.download('stopwords')\n",
        "\n",
        "X_clean=reply['text_clean']\n",
        "\n",
        "# Inisialisasi TfidfVectorizer\n",
        "stop_words = set(stopwords.words('indonesian'))\n",
        "tfidf_vectorizer = TfidfVectorizer(stop_words=stopwords.words('indonesian'))\n",
        "\n",
        "# Fit dan transform teks menjadi representasi TF-IDF\n",
        "# X\n",
        "X = tfidf_vectorizer.fit_transform(X_clean)"
      ],
      "metadata": {
        "colab": {
          "base_uri": "https://localhost:8080/"
        },
        "id": "da-a-PEa8QMU",
        "outputId": "a3a57e2f-6d64-45d3-99f4-65583e26d437"
      },
      "execution_count": 10,
      "outputs": [
        {
          "output_type": "stream",
          "name": "stderr",
          "text": [
            "[nltk_data] Downloading package stopwords to /root/nltk_data...\n",
            "[nltk_data]   Unzipping corpora/stopwords.zip.\n",
            "/usr/local/lib/python3.10/dist-packages/sklearn/feature_extraction/text.py:409: UserWarning: Your stop_words may be inconsistent with your preprocessing. Tokenizing the stop words generated tokens ['baiknya', 'berkali', 'kali', 'kurangnya', 'mata', 'olah', 'sekurang', 'setidak', 'tama', 'tidaknya'] not in stop_words.\n",
            "  warnings.warn(\n"
          ]
        }
      ]
    },
    {
      "cell_type": "code",
      "source": [
        "X.shape"
      ],
      "metadata": {
        "colab": {
          "base_uri": "https://localhost:8080/"
        },
        "id": "7DypVH198cH-",
        "outputId": "4b3dcb9b-d2a8-4238-ae88-f7beea9080c6"
      },
      "execution_count": 11,
      "outputs": [
        {
          "output_type": "execute_result",
          "data": {
            "text/plain": [
              "(11028, 16188)"
            ]
          },
          "metadata": {},
          "execution_count": 11
        }
      ]
    },
    {
      "cell_type": "markdown",
      "source": [
        "### Train-Test Split"
      ],
      "metadata": {
        "id": "S6VOQWfMIl3p"
      }
    },
    {
      "cell_type": "code",
      "source": [
        "from scipy.sparse import csr_matrix\n",
        "\n",
        "X_train = X[:len(reply_train)]\n",
        "X_test = X[len(reply_train):]"
      ],
      "metadata": {
        "id": "VvQyuGlXh7fq"
      },
      "execution_count": 12,
      "outputs": []
    },
    {
      "cell_type": "code",
      "source": [
        "X_train.shape"
      ],
      "metadata": {
        "colab": {
          "base_uri": "https://localhost:8080/"
        },
        "id": "qJbR4vL6iN-z",
        "outputId": "8f082afd-43c7-4ff2-f785-7956c5c87414"
      },
      "execution_count": 13,
      "outputs": [
        {
          "output_type": "execute_result",
          "data": {
            "text/plain": [
              "(8066, 16188)"
            ]
          },
          "metadata": {},
          "execution_count": 13
        }
      ]
    },
    {
      "cell_type": "code",
      "source": [
        "X_test.shape"
      ],
      "metadata": {
        "colab": {
          "base_uri": "https://localhost:8080/"
        },
        "id": "EmttQnvXiOBd",
        "outputId": "fa236438-c806-42d0-91c6-e8157246766f"
      },
      "execution_count": 14,
      "outputs": [
        {
          "output_type": "execute_result",
          "data": {
            "text/plain": [
              "(2962, 16188)"
            ]
          },
          "metadata": {},
          "execution_count": 14
        }
      ]
    },
    {
      "cell_type": "code",
      "source": [
        "# y\n",
        "polarity_encode={'negatif':0, 'netral':1, 'positif':2}\n",
        "y=reply['Sentiment'].map(polarity_encode)\n",
        "y"
      ],
      "metadata": {
        "colab": {
          "base_uri": "https://localhost:8080/"
        },
        "id": "6y51tI0_w0RS",
        "outputId": "cd4ec614-651f-43f8-873f-5f6d9953b78e"
      },
      "execution_count": 15,
      "outputs": [
        {
          "output_type": "execute_result",
          "data": {
            "text/plain": [
              "0        2\n",
              "1        2\n",
              "2        0\n",
              "3        0\n",
              "4        2\n",
              "        ..\n",
              "11023    2\n",
              "11024    2\n",
              "11025    0\n",
              "11026    0\n",
              "11027    0\n",
              "Name: Sentiment, Length: 11028, dtype: int64"
            ]
          },
          "metadata": {},
          "execution_count": 15
        }
      ]
    },
    {
      "cell_type": "code",
      "source": [
        "y.shape"
      ],
      "metadata": {
        "colab": {
          "base_uri": "https://localhost:8080/"
        },
        "id": "liBcDFIQh-T5",
        "outputId": "b18e3ca1-88bb-4b77-d3de-7482a5639e0e"
      },
      "execution_count": 16,
      "outputs": [
        {
          "output_type": "execute_result",
          "data": {
            "text/plain": [
              "(11028,)"
            ]
          },
          "metadata": {},
          "execution_count": 16
        }
      ]
    },
    {
      "cell_type": "code",
      "source": [
        "y_train = y[:len(reply_train)]\n",
        "y_test = y[len(reply_train):]"
      ],
      "metadata": {
        "id": "-CK4eZYSiZH9"
      },
      "execution_count": 17,
      "outputs": []
    },
    {
      "cell_type": "code",
      "source": [
        "y_train.shape"
      ],
      "metadata": {
        "colab": {
          "base_uri": "https://localhost:8080/"
        },
        "id": "DYFVtwXCicpl",
        "outputId": "2b43ec4e-1e29-48eb-e20b-631e4148ff9d"
      },
      "execution_count": 18,
      "outputs": [
        {
          "output_type": "execute_result",
          "data": {
            "text/plain": [
              "(8066,)"
            ]
          },
          "metadata": {},
          "execution_count": 18
        }
      ]
    },
    {
      "cell_type": "code",
      "source": [
        "y_test.shape"
      ],
      "metadata": {
        "colab": {
          "base_uri": "https://localhost:8080/"
        },
        "id": "oU3lo7SwicsC",
        "outputId": "766495d5-c3e1-4641-f328-e01e5877f602"
      },
      "execution_count": 19,
      "outputs": [
        {
          "output_type": "execute_result",
          "data": {
            "text/plain": [
              "(2962,)"
            ]
          },
          "metadata": {},
          "execution_count": 19
        }
      ]
    },
    {
      "cell_type": "code",
      "source": [
        "# y_test.reset_index(drop=True, inplace=True)"
      ],
      "metadata": {
        "id": "JOLpX_41ine8"
      },
      "execution_count": 20,
      "outputs": []
    },
    {
      "cell_type": "markdown",
      "source": [
        "### Imbalance Data"
      ],
      "metadata": {
        "id": "fv-RSdfzf0aE"
      }
    },
    {
      "cell_type": "markdown",
      "source": [
        "#### Train"
      ],
      "metadata": {
        "id": "dUgy1VMEiriY"
      }
    },
    {
      "cell_type": "code",
      "source": [
        "reply_train.Sentiment.value_counts()"
      ],
      "metadata": {
        "colab": {
          "base_uri": "https://localhost:8080/"
        },
        "id": "e46jnxznjOy3",
        "outputId": "0dd7a524-06ab-4fdb-d118-040075538460"
      },
      "execution_count": null,
      "outputs": [
        {
          "output_type": "execute_result",
          "data": {
            "text/plain": [
              "negatif    5139\n",
              "positif    1983\n",
              "netral      944\n",
              "Name: Sentiment, dtype: int64"
            ]
          },
          "metadata": {},
          "execution_count": 70
        }
      ]
    },
    {
      "cell_type": "code",
      "source": [
        "sns.countplot(x='Sentiment', data=reply_train)"
      ],
      "metadata": {
        "colab": {
          "base_uri": "https://localhost:8080/",
          "height": 467
        },
        "id": "9y0MRSwyhAsR",
        "outputId": "360e09a4-0b46-483a-9ee9-9c2a78519701"
      },
      "execution_count": null,
      "outputs": [
        {
          "output_type": "execute_result",
          "data": {
            "text/plain": [
              "<Axes: xlabel='Sentiment', ylabel='count'>"
            ]
          },
          "metadata": {},
          "execution_count": 71
        },
        {
          "output_type": "display_data",
          "data": {
            "text/plain": [
              "<Figure size 640x480 with 1 Axes>"
            ],
            "image/png": "[encoded data removed]"
          },
          "metadata": {}
        }
      ]
    },
    {
      "cell_type": "code",
      "source": [
        "X_res_train, y_res_train = SMOTE().fit_resample (X_train, y_train)\n",
        "y_res_train.value_counts()"
      ],
      "metadata": {
        "colab": {
          "base_uri": "https://localhost:8080/"
        },
        "id": "dD9a5COyhA1v",
        "outputId": "b6fbe638-823a-4bd8-cd79-c01b469fff03"
      },
      "execution_count": 21,
      "outputs": [
        {
          "output_type": "execute_result",
          "data": {
            "text/plain": [
              "2    5139\n",
              "0    5139\n",
              "1    5139\n",
              "Name: Sentiment, dtype: int64"
            ]
          },
          "metadata": {},
          "execution_count": 21
        }
      ]
    },
    {
      "cell_type": "code",
      "source": [
        "data = {\n",
        "    1: 5139,\n",
        "    2: 5139,\n",
        "    0: 5139\n",
        "}\n",
        "\n",
        "# Konversi data ke dalam bentuk yang dapat diplot\n",
        "categories = list(data.keys())\n",
        "counts = list(data.values())\n",
        "\n",
        "# Membuat countplot dengan seaborn\n",
        "sns.countplot(x=categories)"
      ],
      "metadata": {
        "colab": {
          "base_uri": "https://localhost:8080/",
          "height": 448
        },
        "id": "5EGTBUXk_JE2",
        "outputId": "7217dc97-425a-4db1-b885-32387f601821"
      },
      "execution_count": 22,
      "outputs": [
        {
          "output_type": "execute_result",
          "data": {
            "text/plain": [
              "<Axes: ylabel='count'>"
            ]
          },
          "metadata": {},
          "execution_count": 22
        },
        {
          "output_type": "display_data",
          "data": {
            "text/plain": [
              "<Figure size 640x480 with 1 Axes>"
            ],
            "image/png": "[encoded data removed]"
          },
          "metadata": {}
        }
      ]
    },
    {
      "cell_type": "code",
      "source": [
        "X_res_train.shape"
      ],
      "metadata": {
        "colab": {
          "base_uri": "https://localhost:8080/"
        },
        "id": "G2Rxgo1QnzOb",
        "outputId": "0cb554e9-764b-4213-d952-7b415427a429"
      },
      "execution_count": 23,
      "outputs": [
        {
          "output_type": "execute_result",
          "data": {
            "text/plain": [
              "(15417, 16188)"
            ]
          },
          "metadata": {},
          "execution_count": 23
        }
      ]
    },
    {
      "cell_type": "code",
      "source": [
        "y_res_train.shape"
      ],
      "metadata": {
        "colab": {
          "base_uri": "https://localhost:8080/"
        },
        "id": "bl3UrGlin1Zm",
        "outputId": "219ada98-5fbf-4cd1-a4ad-715c9be435ac"
      },
      "execution_count": null,
      "outputs": [
        {
          "output_type": "execute_result",
          "data": {
            "text/plain": [
              "(15417,)"
            ]
          },
          "metadata": {},
          "execution_count": 74
        }
      ]
    },
    {
      "cell_type": "markdown",
      "source": [
        "#### Test"
      ],
      "metadata": {
        "id": "J20S_pFYi-G6"
      }
    },
    {
      "cell_type": "code",
      "source": [
        "reply_test.Sentiment.value_counts()"
      ],
      "metadata": {
        "colab": {
          "base_uri": "https://localhost:8080/"
        },
        "id": "YwBx_W9Ji_an",
        "outputId": "73607fbc-d2e5-4764-9cf3-48a0f5055e4e"
      },
      "execution_count": null,
      "outputs": [
        {
          "output_type": "execute_result",
          "data": {
            "text/plain": [
              "negatif    1794\n",
              "positif     724\n",
              "netral      444\n",
              "Name: Sentiment, dtype: int64"
            ]
          },
          "metadata": {},
          "execution_count": 75
        }
      ]
    },
    {
      "cell_type": "code",
      "source": [
        "sns.countplot(x='Sentiment', data=reply_test)"
      ],
      "metadata": {
        "colab": {
          "base_uri": "https://localhost:8080/",
          "height": 467
        },
        "id": "dYKqLLT1i_gK",
        "outputId": "e00a6abf-041e-45ee-9a2e-c8512a713848"
      },
      "execution_count": null,
      "outputs": [
        {
          "output_type": "execute_result",
          "data": {
            "text/plain": [
              "<Axes: xlabel='Sentiment', ylabel='count'>"
            ]
          },
          "metadata": {},
          "execution_count": 76
        },
        {
          "output_type": "display_data",
          "data": {
            "text/plain": [
              "<Figure size 640x480 with 1 Axes>"
            ],
            "image/png": "[encoded data removed]"
          },
          "metadata": {}
        }
      ]
    },
    {
      "cell_type": "code",
      "source": [
        "X_res_test, y_res_test = SMOTE().fit_resample (X_test, y_test)\n",
        "y_res_test.value_counts()"
      ],
      "metadata": {
        "colab": {
          "base_uri": "https://localhost:8080/"
        },
        "id": "N-AqDOZAi_it",
        "outputId": "28f59192-93ff-4176-e9c7-5f9475e74818"
      },
      "execution_count": null,
      "outputs": [
        {
          "output_type": "execute_result",
          "data": {
            "text/plain": [
              "1    1794\n",
              "0    1794\n",
              "2    1794\n",
              "Name: Sentiment, dtype: int64"
            ]
          },
          "metadata": {},
          "execution_count": 77
        }
      ]
    },
    {
      "cell_type": "code",
      "source": [
        "data = {\n",
        "    1: 1794,\n",
        "    2: 1794,\n",
        "    0: 1794\n",
        "}\n",
        "\n",
        "# Konversi data ke dalam bentuk yang dapat diplot\n",
        "categories = list(data.keys())\n",
        "counts = list(data.values())\n",
        "\n",
        "# Membuat countplot dengan seaborn\n",
        "sns.countplot(x=categories)"
      ],
      "metadata": {
        "colab": {
          "base_uri": "https://localhost:8080/",
          "height": 448
        },
        "id": "3VKliSo-_U_X",
        "outputId": "48000e0d-d434-4032-a492-83e5ff77b6f3"
      },
      "execution_count": 24,
      "outputs": [
        {
          "output_type": "execute_result",
          "data": {
            "text/plain": [
              "<Axes: ylabel='count'>"
            ]
          },
          "metadata": {},
          "execution_count": 24
        },
        {
          "output_type": "display_data",
          "data": {
            "text/plain": [
              "<Figure size 640x480 with 1 Axes>"
            ],
            "image/png": "[encoded data removed]"
          },
          "metadata": {}
        }
      ]
    },
    {
      "cell_type": "code",
      "source": [
        "X_res_test.shape"
      ],
      "metadata": {
        "colab": {
          "base_uri": "https://localhost:8080/"
        },
        "outputId": "523600c9-661b-43cb-de06-b330dd197527",
        "id": "SOAQMarPdSRU"
      },
      "execution_count": null,
      "outputs": [
        {
          "output_type": "execute_result",
          "data": {
            "text/plain": [
              "(5382, 16188)"
            ]
          },
          "metadata": {},
          "execution_count": 78
        }
      ]
    },
    {
      "cell_type": "code",
      "source": [
        "y_res_test.shape"
      ],
      "metadata": {
        "colab": {
          "base_uri": "https://localhost:8080/"
        },
        "outputId": "5b7ad483-b035-4307-810c-451b95fe095e",
        "id": "mnO_O9JjdSRW"
      },
      "execution_count": null,
      "outputs": [
        {
          "output_type": "execute_result",
          "data": {
            "text/plain": [
              "(5382,)"
            ]
          },
          "metadata": {},
          "execution_count": 79
        }
      ]
    },
    {
      "cell_type": "markdown",
      "source": [
        "### SVM"
      ],
      "metadata": {
        "id": "TOEDaCvhnsd2"
      }
    },
    {
      "cell_type": "code",
      "source": [
        "# SVM\n",
        "\n",
        "svm_model = SVC()\n",
        "\n",
        "svm_model.fit(X_train, y_train)\n",
        "y_pred_train = svm_model.predict(X_train)\n",
        "y_pred_test = svm_model.predict(X_test)\n",
        "\n",
        "accuracy_train = accuracy_score(y_pred_train, y_train)\n",
        "accuracy_test = accuracy_score(y_pred_test, y_test)\n",
        "f1_train = f1_score(y_pred_train, y_train, average=\"weighted\")\n",
        "f1_test = f1_score(y_pred_test, y_test, average=\"weighted\")\n",
        "\n",
        "print(\"Accuracy Train : \", accuracy_train)\n",
        "print(\"Accuracy Test : \", accuracy_test)\n",
        "print(\"F1 Score Train : \", f1_train)\n",
        "print(\"F1 Score Test : \", f1_test)"
      ],
      "metadata": {
        "colab": {
          "base_uri": "https://localhost:8080/"
        },
        "id": "MyYCm19Sktuq",
        "outputId": "63fd51b8-08a4-45ea-eb6d-1b385004452c"
      },
      "execution_count": null,
      "outputs": [
        {
          "output_type": "stream",
          "name": "stdout",
          "text": [
            "Accuracy Train :  0.9073890404165633\n",
            "Accuracy Test :  0.6610398379473329\n",
            "F1 Score Train :  0.9169664824393589\n",
            "F1 Score Test :  0.743800569710521\n"
          ]
        }
      ]
    },
    {
      "cell_type": "code",
      "source": [
        "# SVM After Balancing Data\n",
        "\n",
        "svm_model = SVC()\n",
        "\n",
        "svm_model.fit(X_res_train, y_res_train)\n",
        "y_pred_train = svm_model.predict(X_res_train)\n",
        "y_pred_test = svm_model.predict(X_res_test)\n",
        "\n",
        "accuracy_train = accuracy_score(y_pred_train, y_res_train)\n",
        "accuracy_test = accuracy_score(y_pred_test, y_res_test)\n",
        "f1_train = f1_score(y_pred_train, y_res_train, average=\"weighted\")\n",
        "f1_test = f1_score(y_pred_test, y_res_test, average=\"weighted\")\n",
        "\n",
        "print(\"Accuracy Train : \", accuracy_train)\n",
        "print(\"Accuracy Test : \", accuracy_test)\n",
        "print(\"F1 Score Train : \", f1_train)\n",
        "print(\"F1 Score Test : \", f1_test)"
      ],
      "metadata": {
        "colab": {
          "base_uri": "https://localhost:8080/"
        },
        "id": "ntOiHyGfoono",
        "outputId": "e0311874-99c7-483c-96c3-ae53200a2b1b"
      },
      "execution_count": null,
      "outputs": [
        {
          "output_type": "stream",
          "name": "stdout",
          "text": [
            "Accuracy Train :  0.9911785691120192\n",
            "Accuracy Test :  0.5875139353400223\n",
            "F1 Score Train :  0.9911656542204612\n",
            "F1 Score Test :  0.6297077209388272\n"
          ]
        }
      ]
    },
    {
      "cell_type": "markdown",
      "source": [
        "### Random Forest"
      ],
      "metadata": {
        "id": "y54uWLDf_UYD"
      }
    },
    {
      "cell_type": "code",
      "source": [
        "# Random\n",
        "\n",
        "rfc = RandomForestClassifier()\n",
        "\n",
        "rfc.fit(X_train, y_train)\n",
        "y_pred_train = rfc.predict(X_train)\n",
        "y_pred_test = rfc.predict(X_test)\n",
        "\n",
        "accuracy_train = accuracy_score(y_pred_train, y_train)\n",
        "accuracy_test = accuracy_score(y_pred_test, y_test)\n",
        "f1_train = f1_score(y_pred_train, y_train, average=\"weighted\")\n",
        "f1_test = f1_score(y_pred_test, y_test, average=\"weighted\")\n",
        "\n",
        "print(\"Accuracy Train : \", accuracy_train)\n",
        "print(\"Accuracy Test : \", accuracy_test)\n",
        "print(\"F1 Score Train : \", f1_train)\n",
        "print(\"F1 Score Test : \", f1_test)"
      ],
      "metadata": {
        "colab": {
          "base_uri": "https://localhost:8080/"
        },
        "id": "nQuht7dc5UUx",
        "outputId": "6bed5cd0-0d70-43e1-e05b-6f97f587d3f7"
      },
      "execution_count": null,
      "outputs": [
        {
          "output_type": "stream",
          "name": "stdout",
          "text": [
            "Accuracy Train :  0.9995040912472105\n",
            "Accuracy Test :  0.6748818365968939\n",
            "F1 Score Train :  0.9995041654429496\n",
            "F1 Score Test :  0.7277582520268487\n"
          ]
        }
      ]
    },
    {
      "cell_type": "code",
      "source": [
        "# Random Forest After Balancing Data\n",
        "\n",
        "rfc = RandomForestClassifier()\n",
        "\n",
        "rfc.fit(X_res_train, y_res_train)\n",
        "y_pred_train = rfc.predict(X_res_train)\n",
        "y_pred_test = rfc.predict(X_res_test)\n",
        "\n",
        "accuracy_train = accuracy_score(y_pred_train, y_res_train)\n",
        "accuracy_test = accuracy_score(y_pred_test, y_res_test)\n",
        "f1_train = f1_score(y_pred_train, y_res_train, average=\"weighted\")\n",
        "f1_test = f1_score(y_pred_test, y_res_test, average=\"weighted\")\n",
        "\n",
        "print(\"Accuracy Train : \", accuracy_train)\n",
        "print(\"Accuracy Test : \", accuracy_test)\n",
        "print(\"F1 Score Train : \", f1_train)\n",
        "print(\"F1 Score Test : \", f1_test)"
      ],
      "metadata": {
        "colab": {
          "base_uri": "https://localhost:8080/"
        },
        "id": "lgO-_ulq_CmF",
        "outputId": "0f42d865-8899-440a-fc0b-9efdb3275cf5"
      },
      "execution_count": null,
      "outputs": [
        {
          "output_type": "stream",
          "name": "stdout",
          "text": [
            "Accuracy Train :  0.9997405461503535\n",
            "Accuracy Test :  0.5490523968784838\n",
            "F1 Score Train :  0.9997405587783007\n",
            "F1 Score Test :  0.5849593951558176\n"
          ]
        }
      ]
    },
    {
      "cell_type": "markdown",
      "source": [
        "### XGBoost"
      ],
      "metadata": {
        "id": "pRVrIWm13PZM"
      }
    },
    {
      "cell_type": "code",
      "source": [
        "# XGBoost\n",
        "\n",
        "xgb = XGBClassifier()\n",
        "\n",
        "xgb.fit(X_train, y_train)\n",
        "y_pred_train = xgb.predict(X_train)\n",
        "y_pred_test = xgb.predict(X_test)\n",
        "\n",
        "accuracy_train = accuracy_score(y_pred_train, y_train)\n",
        "accuracy_test = accuracy_score(y_pred_test, y_test)\n",
        "f1_train = f1_score(y_pred_train, y_train, average=\"weighted\")\n",
        "f1_test = f1_score(y_pred_test, y_test, average=\"weighted\")\n",
        "\n",
        "print(\"Accuracy Train : \", accuracy_train)\n",
        "print(\"Accuracy Test : \", accuracy_test)\n",
        "print(\"F1 Score Train : \", f1_train)\n",
        "print(\"F1 Score Test : \", f1_test)"
      ],
      "metadata": {
        "colab": {
          "base_uri": "https://localhost:8080/"
        },
        "id": "_mkUXKcrbQqv",
        "outputId": "1ca1bb3b-5e55-4eb0-f895-b54cdf79b63d"
      },
      "execution_count": null,
      "outputs": [
        {
          "output_type": "stream",
          "name": "stdout",
          "text": [
            "Accuracy Train :  0.7902611534276387\n",
            "Accuracy Test :  0.42165592058131207\n",
            "F1 Score Train :  0.8198163249673436\n",
            "F1 Score Test :  0.380500258698432\n"
          ]
        }
      ]
    },
    {
      "cell_type": "code",
      "source": [
        "# XGBoost After Balancing Data\n",
        "\n",
        "xgb = XGBClassifier()\n",
        "\n",
        "xgb.fit(X_res_train, y_res_train)\n",
        "y_pred_train = xgb.predict(X_res_train)\n",
        "y_pred_test = xgb.predict(X_res_test)\n",
        "\n",
        "accuracy_train = accuracy_score(y_pred_train, y_res_train)\n",
        "accuracy_test = accuracy_score(y_pred_test, y_res_test)\n",
        "f1_train = f1_score(y_pred_train, y_res_train, average=\"weighted\")\n",
        "f1_test = f1_score(y_pred_test, y_res_test, average=\"weighted\")\n",
        "\n",
        "print(\"Accuracy Train : \", accuracy_train)\n",
        "print(\"Accuracy Test : \", accuracy_test)\n",
        "print(\"F1 Score Train : \", f1_train)\n",
        "print(\"F1 Score Test : \", f1_test)"
      ],
      "metadata": {
        "colab": {
          "base_uri": "https://localhost:8080/"
        },
        "id": "HxYsCQm-_HL9",
        "outputId": "bda4fa6f-82f0-4b80-ddc9-ee25bee39044"
      },
      "execution_count": null,
      "outputs": [
        {
          "output_type": "stream",
          "name": "stdout",
          "text": [
            "Accuracy Train :  0.8646948174093533\n",
            "Accuracy Test :  0.6034931252322556\n",
            "F1 Score Train :  0.8641074250745903\n",
            "F1 Score Test :  0.6208081428578323\n"
          ]
        }
      ]
    },
    {
      "cell_type": "markdown",
      "source": [
        "Dari ketiga model tersebut pada masing-masing model membandingkan matrics score antara menggunakan data asli dan juga data yang sudah dilakukan balancing.\n",
        "Secara overall data asli (tanpa balancing) menghasilkan akurasi yang lebih baik.\n",
        "\n",
        "Kemudian dari ketiga model tersebut dipilih model SVM karena model tersebut yang memiliki nilai F-Score yang lebih dekat jaraknya antara F-Score training dan testing dibandingkan model lainnya sehingga selanjutnya dilakukan hyperparameter tuning supaya mendapatkan hasil akurasi yang lebih maksimal"
      ],
      "metadata": {
        "id": "Cy3wxrTFBbRF"
      }
    },
    {
      "cell_type": "markdown",
      "source": [
        "### Hyperparameter Tuning"
      ],
      "metadata": {
        "id": "lm00zKIp5pJz"
      }
    },
    {
      "cell_type": "code",
      "source": [
        "#GridSearch\n",
        "from sklearn.model_selection import GridSearchCV\n",
        "\n",
        "#Cross Validation -> Untuk menangani data yang tidak balance\n",
        "from sklearn.model_selection import StratifiedKFold\n",
        "from sklearn.model_selection import RepeatedStratifiedKFold\n",
        "\n",
        "#Evaluation\n",
        "from sklearn import metrics\n",
        "from sklearn.metrics import classification_report, roc_auc_score, roc_curve\n",
        "from sklearn.metrics import make_scorer,accuracy_score,roc_auc_score,precision_score,recall_score,f1_score,log_loss\n",
        "from sklearn.metrics import confusion_matrix"
      ],
      "metadata": {
        "id": "Gmo7kZCp1MnF"
      },
      "execution_count": null,
      "outputs": []
    },
    {
      "cell_type": "markdown",
      "source": [
        "#### SVM"
      ],
      "metadata": {
        "id": "KraB0FARttvC"
      }
    },
    {
      "cell_type": "code",
      "source": [
        "#Best Model SVC\n",
        "svc = SVC()\n",
        "param_grid = {'C': [0.1, 1, 10, 100, 1000],\n",
        "              'gamma': [1, 0.1, 0.01, 0.001, 0.0001],\n",
        "              'kernel': ['rbf','linear', 'sigmoid', 'poly']}\n",
        "grid=GridSearchCV(svc, param_grid, cv = StratifiedKFold(n_splits=5), n_jobs=-1, verbose=4)"
      ],
      "metadata": {
        "id": "-mf_uL4K5xrv"
      },
      "execution_count": null,
      "outputs": []
    },
    {
      "cell_type": "code",
      "source": [
        "grid.fit(X_train, y_train)"
      ],
      "metadata": {
        "colab": {
          "base_uri": "https://localhost:8080/",
          "height": 137
        },
        "id": "M9416OS57BMw",
        "outputId": "42418a51-6152-4a50-eeae-8b3fa6e0e7e5"
      },
      "execution_count": null,
      "outputs": [
        {
          "output_type": "stream",
          "name": "stdout",
          "text": [
            "Fitting 5 folds for each of 100 candidates, totalling 500 fits\n"
          ]
        },
        {
          "output_type": "execute_result",
          "data": {
            "text/plain": [
              "GridSearchCV(cv=StratifiedKFold(n_splits=5, random_state=None, shuffle=False),\n",
              "             estimator=SVC(), n_jobs=-1,\n",
              "             param_grid={'C': [0.1, 1, 10, 100, 1000],\n",
              "                         'gamma': [1, 0.1, 0.01, 0.001, 0.0001],\n",
              "                         'kernel': ['rbf', 'linear', 'sigmoid', 'poly']},\n",
              "             verbose=4)"
            ],
            "text/html": [
              "<style>#sk-container-id-1 {color: black;background-color: white;}#sk-container-id-1 pre{padding: 0;}#sk-container-id-1 div.sk-toggleable {background-color: white;}#sk-container-id-1 label.sk-toggleable__label {cursor: pointer;display: block;width: 100%;margin-bottom: 0;padding: 0.3em;box-sizing: border-box;text-align: center;}#sk-container-id-1 label.sk-toggleable__label-arrow:before {content: \"▸\";float: left;margin-right: 0.25em;color: #696969;}#sk-container-id-1 label.sk-toggleable__label-arrow:hover:before {color: black;}#sk-container-id-1 div.sk-estimator:hover label.sk-toggleable__label-arrow:before {color: black;}#sk-container-id-1 div.sk-toggleable__content {max-height: 0;max-width: 0;overflow: hidden;text-align: left;background-color: #f0f8ff;}#sk-container-id-1 div.sk-toggleable__content pre {margin: 0.2em;color: black;border-radius: 0.25em;background-color: #f0f8ff;}#sk-container-id-1 input.sk-toggleable__control:checked~div.sk-toggleable__content {max-height: 200px;max-width: 100%;overflow: auto;}#sk-container-id-1 input.sk-toggleable__control:checked~label.sk-toggleable__label-arrow:before {content: \"▾\";}#sk-container-id-1 div.sk-estimator input.sk-toggleable__control:checked~label.sk-toggleable__label {background-color: #d4ebff;}#sk-container-id-1 div.sk-label input.sk-toggleable__control:checked~label.sk-toggleable__label {background-color: #d4ebff;}#sk-container-id-1 input.sk-hidden--visually {border: 0;clip: rect(1px 1px 1px 1px);clip: rect(1px, 1px, 1px, 1px);height: 1px;margin: -1px;overflow: hidden;padding: 0;position: absolute;width: 1px;}#sk-container-id-1 div.sk-estimator {font-family: monospace;background-color: #f0f8ff;border: 1px dotted black;border-radius: 0.25em;box-sizing: border-box;margin-bottom: 0.5em;}#sk-container-id-1 div.sk-estimator:hover {background-color: #d4ebff;}#sk-container-id-1 div.sk-parallel-item::after {content: \"\";width: 100%;border-bottom: 1px solid gray;flex-grow: 1;}#sk-container-id-1 div.sk-label:hover label.sk-toggleable__label {background-color: #d4ebff;}#sk-container-id-1 div.sk-serial::before {content: \"\";position: absolute;border-left: 1px solid gray;box-sizing: border-box;top: 0;bottom: 0;left: 50%;z-index: 0;}#sk-container-id-1 div.sk-serial {display: flex;flex-direction: column;align-items: center;background-color: white;padding-right: 0.2em;padding-left: 0.2em;position: relative;}#sk-container-id-1 div.sk-item {position: relative;z-index: 1;}#sk-container-id-1 div.sk-parallel {display: flex;align-items: stretch;justify-content: center;background-color: white;position: relative;}#sk-container-id-1 div.sk-item::before, #sk-container-id-1 div.sk-parallel-item::before {content: \"\";position: absolute;border-left: 1px solid gray;box-sizing: border-box;top: 0;bottom: 0;left: 50%;z-index: -1;}#sk-container-id-1 div.sk-parallel-item {display: flex;flex-direction: column;z-index: 1;position: relative;background-color: white;}#sk-container-id-1 div.sk-parallel-item:first-child::after {align-self: flex-end;width: 50%;}#sk-container-id-1 div.sk-parallel-item:last-child::after {align-self: flex-start;width: 50%;}#sk-container-id-1 div.sk-parallel-item:only-child::after {width: 0;}#sk-container-id-1 div.sk-dashed-wrapped {border: 1px dashed gray;margin: 0 0.4em 0.5em 0.4em;box-sizing: border-box;padding-bottom: 0.4em;background-color: white;}#sk-container-id-1 div.sk-label label {font-family: monospace;font-weight: bold;display: inline-block;line-height: 1.2em;}#sk-container-id-1 div.sk-label-container {text-align: center;}#sk-container-id-1 div.sk-container {/* jupyter's `normalize.less` sets `[hidden] { display: none; }` but bootstrap.min.css set `[hidden] { display: none !important; }` so we also need the `!important` here to be able to override the default hidden behavior on the sphinx rendered scikit-learn.org. See: https://github.com/scikit-learn/scikit-learn/issues/21755 */display: inline-block !important;position: relative;}#sk-container-id-1 div.sk-text-repr-fallback {display: none;}</style><div id=\"sk-container-id-1\" class=\"sk-top-container\"><div class=\"sk-text-repr-fallback\"><pre>GridSearchCV(cv=StratifiedKFold(n_splits=5, random_state=None, shuffle=False),\n",
              "             estimator=SVC(), n_jobs=-1,\n",
              "             param_grid={&#x27;C&#x27;: [0.1, 1, 10, 100, 1000],\n",
              "                         &#x27;gamma&#x27;: [1, 0.1, 0.01, 0.001, 0.0001],\n",
              "                         &#x27;kernel&#x27;: [&#x27;rbf&#x27;, &#x27;linear&#x27;, &#x27;sigmoid&#x27;, &#x27;poly&#x27;]},\n",
              "             verbose=4)</pre><b>In a Jupyter environment, please rerun this cell to show the HTML representation or trust the notebook. <br />On GitHub, the HTML representation is unable to render, please try loading this page with nbviewer.org.</b></div><div class=\"sk-container\" hidden><div class=\"sk-item sk-dashed-wrapped\"><div class=\"sk-label-container\"><div class=\"sk-label sk-toggleable\"><input class=\"sk-toggleable__control sk-hidden--visually\" id=\"sk-estimator-id-1\" type=\"checkbox\" ><label for=\"sk-estimator-id-1\" class=\"sk-toggleable__label sk-toggleable__label-arrow\">GridSearchCV</label><div class=\"sk-toggleable__content\"><pre>GridSearchCV(cv=StratifiedKFold(n_splits=5, random_state=None, shuffle=False),\n",
              "             estimator=SVC(), n_jobs=-1,\n",
              "             param_grid={&#x27;C&#x27;: [0.1, 1, 10, 100, 1000],\n",
              "                         &#x27;gamma&#x27;: [1, 0.1, 0.01, 0.001, 0.0001],\n",
              "                         &#x27;kernel&#x27;: [&#x27;rbf&#x27;, &#x27;linear&#x27;, &#x27;sigmoid&#x27;, &#x27;poly&#x27;]},\n",
              "             verbose=4)</pre></div></div></div><div class=\"sk-parallel\"><div class=\"sk-parallel-item\"><div class=\"sk-item\"><div class=\"sk-label-container\"><div class=\"sk-label sk-toggleable\"><input class=\"sk-toggleable__control sk-hidden--visually\" id=\"sk-estimator-id-2\" type=\"checkbox\" ><label for=\"sk-estimator-id-2\" class=\"sk-toggleable__label sk-toggleable__label-arrow\">estimator: SVC</label><div class=\"sk-toggleable__content\"><pre>SVC()</pre></div></div></div><div class=\"sk-serial\"><div class=\"sk-item\"><div class=\"sk-estimator sk-toggleable\"><input class=\"sk-toggleable__control sk-hidden--visually\" id=\"sk-estimator-id-3\" type=\"checkbox\" ><label for=\"sk-estimator-id-3\" class=\"sk-toggleable__label sk-toggleable__label-arrow\">SVC</label><div class=\"sk-toggleable__content\"><pre>SVC()</pre></div></div></div></div></div></div></div></div></div></div>"
            ]
          },
          "metadata": {},
          "execution_count": 30
        }
      ]
    },
    {
      "cell_type": "code",
      "source": [
        "print(grid.best_params_)\n",
        "print(grid.best_estimator_)"
      ],
      "metadata": {
        "colab": {
          "base_uri": "https://localhost:8080/"
        },
        "id": "_jZsvXCqBjKf",
        "outputId": "7e61b364-6ec6-4c4b-b5aa-18b941f318cd"
      },
      "execution_count": null,
      "outputs": [
        {
          "output_type": "stream",
          "name": "stdout",
          "text": [
            "{'C': 1, 'gamma': 1, 'kernel': 'linear'}\n",
            "SVC(C=1, gamma=1, kernel='linear')\n"
          ]
        }
      ]
    },
    {
      "cell_type": "markdown",
      "source": [
        "#### Best Model SVM"
      ],
      "metadata": {
        "id": "jvjTkeTNtCZb"
      }
    },
    {
      "cell_type": "code",
      "source": [
        "# SVC (Hyperparameter Tuning)\n",
        "\n",
        "svm_model = SVC(C=1, gamma=1, kernel='linear')\n",
        "\n",
        "svm_model.fit(X_train, y_train)\n",
        "y_pred_train = svm_model.predict(X_train)\n",
        "y_pred_test = svm_model.predict(X_test)\n",
        "\n",
        "accuracy_train = accuracy_score(y_pred_train, y_train)\n",
        "accuracy_test = accuracy_score(y_pred_test, y_test)\n",
        "f1_train = f1_score(y_pred_train, y_train, average=\"weighted\")\n",
        "f1_test = f1_score(y_pred_test, y_test, average=\"weighted\")\n",
        "precision_train = precision_score(y_pred_train, y_train, average='weighted')\n",
        "precision_test = precision_score(y_pred_test, y_test, average='weighted')\n",
        "recall_train = recall_score(y_pred_train, y_train, average='weighted')\n",
        "recall_test = recall_score(y_pred_test, y_test, average='weighted')\n",
        "\n",
        "print(\"Accuracy Train : \", accuracy_train)\n",
        "print(\"Accuracy Test : \", accuracy_test)\n",
        "print(\"Precision Train : \", precision_train)\n",
        "print(\"Precision Test : \", precision_test)\n",
        "print(\"Recall Train : \", recall_train)\n",
        "print(\"Recall Test : \", recall_test)\n",
        "\n",
        "print(\"\\nF1 Score Train : \", f1_train)\n",
        "print(\"F1 Score Test : \", f1_test)"
      ],
      "metadata": {
        "colab": {
          "base_uri": "https://localhost:8080/"
        },
        "id": "HBaANFfBW5c5",
        "outputId": "c3cdb2ea-adc6-486e-c9f0-bd29f3004fbc"
      },
      "execution_count": null,
      "outputs": [
        {
          "output_type": "stream",
          "name": "stdout",
          "text": [
            "Accuracy Train :  0.844532606000496\n",
            "Accuracy Test :  0.673869007427414\n",
            "Precision Train :  0.9048972195155225\n",
            "Precision Test :  0.8386731023718217\n",
            "Recall Train :  0.844532606000496\n",
            "Recall Test :  0.673869007427414\n",
            "\n",
            "F1 Score Train :  0.8633398930100906\n",
            "F1 Score Test :  0.733848952206421\n"
          ]
        }
      ]
    },
    {
      "cell_type": "markdown",
      "source": [
        "Setelah hyperparameter tuning diperoleh nilai F1-Score yang turun tetapi model yang telah dihyperparameter tuning merupakan model terpilih yang terbaik karena jarak antara data training dan testing lebih kecil dibandingkan akurasi sebelum dihyperparameter tuning"
      ],
      "metadata": {
        "id": "ujvP7jH-C1Nt"
      }
    },
    {
      "cell_type": "markdown",
      "source": [
        "### Confusion Matrix"
      ],
      "metadata": {
        "id": "nXwSTqNtWnq_"
      }
    },
    {
      "cell_type": "code",
      "source": [
        "cm = confusion_matrix(y_test, y_pred_test)\n",
        "disp = ConfusionMatrixDisplay(confusion_matrix=cm)\n",
        "disp.plot()"
      ],
      "metadata": {
        "colab": {
          "base_uri": "https://localhost:8080/",
          "height": 467
        },
        "id": "6hH8WXGP_n8n",
        "outputId": "d6c5eed4-bf2f-4402-f0a4-a84ccdbbbdf5"
      },
      "execution_count": null,
      "outputs": [
        {
          "output_type": "execute_result",
          "data": {
            "text/plain": [
              "<sklearn.metrics._plot.confusion_matrix.ConfusionMatrixDisplay at 0x7d0ec2755cf0>"
            ]
          },
          "metadata": {},
          "execution_count": 91
        },
        {
          "output_type": "display_data",
          "data": {
            "text/plain": [
              "<Figure size 640x480 with 2 Axes>"
            ],
            "image/png": "[encoded data removed]"
          },
          "metadata": {}
        }
      ]
    }
  ]
}